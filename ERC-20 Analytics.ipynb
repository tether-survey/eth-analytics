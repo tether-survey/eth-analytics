{
 "cells": [
  {
   "cell_type": "markdown",
   "id": "15bb04ab-beb1-48c4-8b3b-a129a5287e4a",
   "metadata": {},
   "source": [
    "README\n",
    "--\n",
    "\n",
    "These are *approximate* analytics based on (fallible) automated detection of different contract types. Do note that the analysis listed in the paper was done after filtering out false positive ERC-20 contracts from this list. That analysis can be found in the [linktree](https://linktr.ee/tethersurvey) under **ERC-20 Contract Analysis**\n",
    "\n",
    "This notebook includes function name string match-based autodetection of the *contract pause*, *user blacklist* and *contract upgrade* features mentioned in the paper. However, the matches were further filtered to those that matched **actual** ERC-20 contracts outside of this notebook before being reported in the paper."
   ]
  },
  {
   "cell_type": "code",
   "execution_count": 1,
   "id": "35e8d3db-2ca3-4f70-9a3f-88cf808a738b",
   "metadata": {},
   "outputs": [],
   "source": [
    "import json\n",
    "import os\n",
    "import re\n",
    "import functools\n",
    "from collections import Counter\n",
    "from glob import glob\n",
    "from tqdm import tqdm\n",
    "\n",
    "import pandas as pd\n",
    "import matplotlib.pyplot as plt\n",
    "import matplotlib as mpl\n",
    "import seaborn as sns\n",
    "\n",
    "from zeppelin_contracts import ZEPPELIN_CONTRACTS\n",
    "\n",
    "from typing import Any, Callable, Dict, List, Tuple, Union\n",
    "\n",
    "mpl.rcParams['figure.figsize'] = (10,7)"
   ]
  },
  {
   "cell_type": "code",
   "execution_count": 2,
   "id": "81e229f6-651e-476a-84f0-dcd42e6a4921",
   "metadata": {},
   "outputs": [],
   "source": [
    "SOURCE_CODE_DIR = './source-code'\n",
    "TOP_N_DATA_PATH = './data/top-500-minblock-14434001-maxblock-15012398.feather'\n",
    "\n",
    "FN_NAMES_TEMP_PARSE_PATH = './tmp/parse/parsed.json'\n",
    "FN_NAMES_TEMP_FILE_PATH = './tmp/parse/file.sol'"
   ]
  },
  {
   "cell_type": "code",
   "execution_count": 3,
   "id": "6b0a52e9-4704-41f7-bf7f-7ad33f218ec0",
   "metadata": {},
   "outputs": [],
   "source": [
    "os.makedirs(os.path.dirname(FN_NAMES_TEMP_PARSE_PATH), exist_ok=True)"
   ]
  },
  {
   "cell_type": "markdown",
   "id": "210c2600-75ee-40dc-9984-22cd4a7e55b2",
   "metadata": {},
   "source": [
    "# Code class"
   ]
  },
  {
   "cell_type": "code",
   "execution_count": 4,
   "id": "c511f46f-9d3e-45f9-b0e0-9224e992cb80",
   "metadata": {},
   "outputs": [],
   "source": [
    "class Code:\n",
    "    def __init__(self, path: str) -> None:\n",
    "        self.path = path\n",
    "        self.name = ''.join( os.path.basename(path).split('_')[:-1] )\n",
    "        self.address = os.path.basename(path).split('_')[-1].replace('.sol', '')\n",
    "        \n",
    "        with open(path) as f:\n",
    "            self.src = self._process_source(f.read())\n",
    "        self.lines = self.src.split('\\n')\n",
    "        self.comment_lines, self.noncomment_lines = self._seperate_comments()\n",
    "        self.fn_names = self._extract_fn_names()\n",
    "            \n",
    "        self.contracts = set([l.split()[1] for l in self.lines if l.startswith('contract')])\n",
    "        self.interfaces = set([l.split()[1] for l in self.lines if l.startswith('interface')])\n",
    "        self.libraries = set([l.split()[1] for l in self.lines if l.startswith('library')])\n",
    "        self.zeppelin_contracts = self.contracts.intersection(ZEPPELIN_CONTRACTS)\n",
    "        \n",
    "        self.is_erc20 = self.contains_part('erc20')\n",
    "        self.is_erc721 = self.contains_part('erc721')\n",
    "        self.is_erc1155 = self.contains_part('erc1155')\n",
    "        \n",
    "    def _process_source(self, content: str) -> str:\n",
    "        \"\"\"Handles the dict-like case as well as normal case\"\"\"\n",
    "        \n",
    "        def concat_sources_content(sources: dict) -> str:\n",
    "            items = []\n",
    "            for name, values in sources.items():\n",
    "                items.append('// FILE: ' + name)\n",
    "                items.append(values['content'])\n",
    "\n",
    "            return '\\n'.join(items)\n",
    "        \n",
    "        if content[0] == '{':\n",
    "            if content[1] == '{':\n",
    "                srcs = json.loads(content[1:-1])['sources']\n",
    "            else:\n",
    "                srcs = json.loads(content)\n",
    "            return concat_sources_content(srcs)\n",
    "        return content\n",
    "    \n",
    "    def _extract_fn_names(self) -> None:\n",
    "        \"\"\"Extract function names\"\"\"\n",
    "        \n",
    "        def visit(curr: Any, visitor_fn: Callable[[Dict], Any]):\n",
    "            if isinstance(curr, dict):\n",
    "                visitor_fn(curr)\n",
    "                for k in curr:\n",
    "                    visit(curr[k], visitor_fn)\n",
    "            elif isinstance(curr, list):\n",
    "                for v in curr:\n",
    "                    visit(v, visitor_fn)\n",
    "\n",
    "        def visitor(d: dict) -> None:\n",
    "            if 'type' in d and d['type'] == 'FunctionDefinition':\n",
    "                fnames.append(d['name'])\n",
    "\n",
    "        \n",
    "        with open(FN_NAMES_TEMP_FILE_PATH, 'w') as f:\n",
    "            f.write(self.src)\n",
    "            \n",
    "        os.system(f'surya parse -j {FN_NAMES_TEMP_FILE_PATH} | jq > {FN_NAMES_TEMP_PARSE_PATH}')\n",
    "\n",
    "        fnames = []\n",
    "        with open(FN_NAMES_TEMP_PARSE_PATH) as f:\n",
    "            data = json.load(f)\n",
    "\n",
    "        visit(data, visitor) # retrieve function names\n",
    "        return fnames \n",
    "        \n",
    "        \n",
    "    def _seperate_comments(self) -> Tuple[str, str]:\n",
    "        \"\"\" Returns (comment_lines, noncomment_lines) each in list format\n",
    "        \"\"\"\n",
    "        \n",
    "        multiline_pattern = re.compile('/\\*.+?\\*/', re.DOTALL)\n",
    "        multiline_comments = re.findall(multiline_pattern, self.src)\n",
    "        \n",
    "        singleline_pattern = re.compile('\\s*//.*')\n",
    "        singleline_comments = re.findall(singleline_pattern, self.src)\n",
    "        \n",
    "        multiline_comment_lines = []\n",
    "        for mc in multiline_comments:\n",
    "            multiline_comment_lines.extend(mc.split('\\n'))\n",
    "            \n",
    "        comment_lines = multiline_comment_lines + singleline_comments\n",
    "        noncomment_lines = functools.reduce(\n",
    "            lambda s, p: re.sub(p, '', s),\n",
    "            [multiline_pattern, singleline_pattern],\n",
    "             self.src\n",
    "         ).split('\\n')\n",
    "        \n",
    "        return (\n",
    "            comment_lines,\n",
    "            noncomment_lines\n",
    "        )\n",
    "        \n",
    "    def to_record(self) -> Dict[str, Union[str, int]]:\n",
    "        return {\n",
    "            'name': self.name,\n",
    "            \n",
    "            'contracts': self.contracts,\n",
    "            'num_contracts': len(self.contracts),\n",
    "            \n",
    "            'interfaces': self.interfaces,\n",
    "            'num_interfaces': len(self.interfaces),\n",
    "            \n",
    "            'libraries': self.contracts,\n",
    "            'num_libraries': len(self.contracts),\n",
    "            \n",
    "            'num_lines': len(self.lines),\n",
    "            'num_comment_lines': len(self.comment_lines),\n",
    "            'num_noncomment_lines': len(self.noncomment_lines),\n",
    "            \n",
    "            'is_erc20': self.is_erc20,\n",
    "            'is_erc721': self.is_erc721,\n",
    "            'is_erc1155': self.is_erc1155,\n",
    "        }\n",
    "    \n",
    "    def contains_part(self, partial_match: str, verbose_contracts=False, verbose_interfaces=False) -> bool:\n",
    "        \"\"\"Check if any contract name or implemented interface contains partial match (case-insensitive).\"\"\"\n",
    "        \n",
    "        contract_matches = re.findall(partial_match, '|'.join(self.contracts).lower())\n",
    "        \n",
    "        interface_matches = re.findall('contract .+? is (.+'+partial_match+').+{?', self.src, flags=re.IGNORECASE)\n",
    "        \n",
    "        if len(contract_matches) or len(interface_matches):\n",
    "            if verbose_contracts and len(contract_matches):\n",
    "                print('\\tContracts: ' + ' | '.join(self.contracts))\n",
    "            if verbose_interfaces and len(interface_matches):\n",
    "                print('\\tInterfaces: ' + '\\n'.join(interface_matches))\n",
    "            return True\n",
    "        \n",
    "        return False\n",
    "                                \n",
    "    @classmethod\n",
    "    def load_from_dir(cls, dirpath) -> List['Code']:\n",
    "        codes = []\n",
    "        num_errors = 0\n",
    "        for p in tqdm(glob(os.path.join(dirpath, '*.sol'))):\n",
    "            if os.path.isdir(p):\n",
    "                continue\n",
    "            try:\n",
    "                codes.append(Code(p))\n",
    "            except:\n",
    "                num_errors += 1\n",
    "            \n",
    "        \n",
    "        print(f'{len(codes)} codes loaded, {num_errors} failed.')\n",
    "        \n",
    "        return codes\n",
    "    \n",
    "    def __repr__(self):\n",
    "        return f'{self.name}: {len(self.lines)} lines, {len(self.contracts)} contracts ({self.contracts})'"
   ]
  },
  {
   "cell_type": "markdown",
   "id": "6f4c9a8e-d0db-436f-8e7f-56c2e9e990b2",
   "metadata": {},
   "source": [
    "# Load Data"
   ]
  },
  {
   "cell_type": "code",
   "execution_count": null,
   "id": "2910258b-d68a-4f7c-9abe-e3fd96851219",
   "metadata": {},
   "outputs": [],
   "source": [
    "most_freq = pd.read_feather(TOP_N_DATA_PATH)\n",
    "most_freq_addresses = set(most_freq.Address.tolist())\n",
    "\n",
    "codes = Code.load_from_dir(SOURCE_CODE_DIR)\n",
    "codes = [c for c in codes if c.address in most_freq_addresses]\n",
    "codes_df = pd.DataFrame.from_records(c.to_record() for c in codes).sort_values('num_contracts', ascending=False)\n",
    "codes_df.head()\n",
    "print(f'After filtering to most freq sent to, {len(codes)} files remain')"
   ]
  },
  {
   "cell_type": "markdown",
   "id": "a0ec1715-bd99-4c62-9ba7-5e3ce89a7c17",
   "metadata": {},
   "source": [
    "# Stats"
   ]
  },
  {
   "cell_type": "code",
   "execution_count": 15,
   "id": "ceb49fbb-0966-4f8b-91c3-4b1353528942",
   "metadata": {},
   "outputs": [
    {
     "name": "stdout",
     "output_type": "stream",
     "text": [
      "Mean of 0.83 zeppelin contracts (total 305) in 366 code files\n",
      "Mean of 3.98 contracts (total 1456) in 366 code files\n",
      "201/366 files (54.92%) have zeppelin\n",
      "20.9% of contracts are zeppelin\n",
      "\n",
      "28.4% (total 104) of contracts have ERC-20 references\n",
      "35.5% (total 130) of contracts have ERC-721 references\n",
      "3.6% (total 13) of contracts have ERC-1155 references\n"
     ]
    }
   ],
   "source": [
    "num_zeppelin = 0\n",
    "num_contracts = 0\n",
    "num_has_zeppelin = 0\n",
    "num_erc20 = 0\n",
    "num_erc721 = 0\n",
    "num_erc1155 = 0\n",
    "\n",
    "for code in codes:\n",
    "    num_zeppelin += len(code.contracts.intersection(ZEPPELIN_CONTRACTS))\n",
    "    num_contracts += len(code.contracts)\n",
    "    num_has_zeppelin += len(code.contracts.intersection(ZEPPELIN_CONTRACTS)) > 0\n",
    "    num_erc20 += code.is_erc20\n",
    "    num_erc721 += code.is_erc721\n",
    "    num_erc1155 += code.is_erc1155\n",
    "    \n",
    "    \n",
    "print(f'Mean of {num_zeppelin/len(codes):.2f} zeppelin contracts (total {num_zeppelin}) in {len(codes)} code files')\n",
    "print(f'Mean of {num_contracts/len(codes):.2f} contracts (total {num_contracts}) in {len(codes)} code files')\n",
    "print(f'{num_has_zeppelin}/{len(codes)} files ({num_has_zeppelin/len(codes)*100:.2f}%) have zeppelin')\n",
    "print(f'{num_zeppelin/num_contracts*100:.1f}% of contracts are zeppelin')\n",
    "print()\n",
    "print(f'{num_erc20/len(codes)*100:.1f}% (total {num_erc20}) of contracts have ERC-20 references')\n",
    "print(f'{num_erc721/len(codes)*100:.1f}% (total {num_erc721}) of contracts have ERC-721 references')\n",
    "print(f'{num_erc1155/len(codes)*100:.1f}% (total {num_erc1155}) of contracts have ERC-1155 references')"
   ]
  },
  {
   "cell_type": "markdown",
   "id": "0bd35435-05c6-4462-8b70-6a4f16eec136",
   "metadata": {},
   "source": [
    "# Process into dataframe"
   ]
  },
  {
   "cell_type": "code",
   "execution_count": 16,
   "id": "d06dbbed-a9f3-49f2-92ef-ef6a42cc7e5a",
   "metadata": {},
   "outputs": [],
   "source": [
    "dicts = []\n",
    "for code in codes:\n",
    "    num_contracts = len(code.contracts)\n",
    "    has_zeppelin = len(code.contracts.intersection(ZEPPELIN_CONTRACTS)) > 0\n",
    "    dicts.append({\n",
    "        'ContractName': code.name,\n",
    "        'Address': code.address,\n",
    "        'num_contracts': num_contracts,\n",
    "        'contracts': code.contracts,\n",
    "        'is_erc20': code.is_erc20,\n",
    "        'is_erc721': code.is_erc721,\n",
    "        'is_erc1155': code.is_erc1155,\n",
    "        'src': code.src,\n",
    "        'path': code.path,\n",
    "        'fn_names': code.fn_names,\n",
    "    })\n",
    "df = pd.DataFrame.from_dict(dicts) \n",
    "df = df.merge(most_freq, on=['ContractName', 'Address'], how='right')\n",
    "df = df.sort_values('num_tx', ascending=False).reset_index()\n",
    "df['frac_tx'] = df['num_tx'] / df['num_tx'].sum()"
   ]
  },
  {
   "cell_type": "code",
   "execution_count": 17,
   "id": "fdd86b9a-f2b0-4e1b-b3e2-251f843c8508",
   "metadata": {},
   "outputs": [
    {
     "data": {
      "text/plain": [
       "0.009037228556936576"
      ]
     },
     "execution_count": 17,
     "metadata": {},
     "output_type": "execute_result"
    }
   ],
   "source": [
    "for c in ['20', '721', '1155']:\n",
    "    df[f'is_erc{c}'] = df[f'is_erc{c}'].fillna(False)\n",
    "df[df.is_erc1155].frac_tx.sum()"
   ]
  },
  {
   "cell_type": "markdown",
   "id": "9e00b811-cc5c-4b50-8acb-e960c7f50167",
   "metadata": {},
   "source": [
    "# Transactions for Tokens"
   ]
  },
  {
   "cell_type": "markdown",
   "id": "f9f6fc85-8c2b-48e2-a0fa-b30d745c8f5b",
   "metadata": {},
   "source": [
    "## ERC20"
   ]
  },
  {
   "cell_type": "code",
   "execution_count": 18,
   "id": "085fa39f-20b8-4339-959a-4852833a1b73",
   "metadata": {},
   "outputs": [
    {
     "name": "stderr",
     "output_type": "stream",
     "text": [
      "/var/folders/k8/zk3t1hw970s24hcwklx_31ww0000gn/T/ipykernel_12000/2595829981.py:2: SettingWithCopyWarning: \n",
      "A value is trying to be set on a copy of a slice from a DataFrame.\n",
      "Try using .loc[row_indexer,col_indexer] = value instead\n",
      "\n",
      "See the caveats in the documentation: https://pandas.pydata.org/pandas-docs/stable/user_guide/indexing.html#returning-a-view-versus-a-copy\n",
      "  is_erc20['frac_tx'] = is_erc20['num_tx'] / is_erc20['num_tx'].sum()\n",
      "/var/folders/k8/zk3t1hw970s24hcwklx_31ww0000gn/T/ipykernel_12000/2595829981.py:4: SettingWithCopyWarning: \n",
      "A value is trying to be set on a copy of a slice from a DataFrame.\n",
      "Try using .loc[row_indexer,col_indexer] = value instead\n",
      "\n",
      "See the caveats in the documentation: https://pandas.pydata.org/pandas-docs/stable/user_guide/indexing.html#returning-a-view-versus-a-copy\n",
      "  is_erc20['cumsum_frac'] = is_erc20.frac_tx.cumsum()\n",
      "/var/folders/k8/zk3t1hw970s24hcwklx_31ww0000gn/T/ipykernel_12000/2595829981.py:5: SettingWithCopyWarning: \n",
      "A value is trying to be set on a copy of a slice from a DataFrame.\n",
      "Try using .loc[row_indexer,col_indexer] = value instead\n",
      "\n",
      "See the caveats in the documentation: https://pandas.pydata.org/pandas-docs/stable/user_guide/indexing.html#returning-a-view-versus-a-copy\n",
      "  is_erc20['rank'] = list(range(1, 1+len(is_erc20)))\n"
     ]
    },
    {
     "data": {
      "text/plain": [
       "0.373681266731742"
      ]
     },
     "execution_count": 18,
     "metadata": {},
     "output_type": "execute_result"
    }
   ],
   "source": [
    "is_erc20 = df[df.is_erc20]\n",
    "is_erc20['frac_tx'] = is_erc20['num_tx'] / is_erc20['num_tx'].sum()\n",
    "\n",
    "is_erc20['cumsum_frac'] = is_erc20.frac_tx.cumsum()\n",
    "is_erc20['rank'] = list(range(1, 1+len(is_erc20)))\n",
    "(is_erc20.num_tx.sum()) / df.num_tx.sum()"
   ]
  },
  {
   "cell_type": "code",
   "execution_count": 19,
   "id": "af03841f-6371-4c14-83cd-73f8975cff76",
   "metadata": {},
   "outputs": [
    {
     "name": "stderr",
     "output_type": "stream",
     "text": [
      "/var/folders/k8/zk3t1hw970s24hcwklx_31ww0000gn/T/ipykernel_12000/3350499792.py:19: SettingWithCopyWarning: \n",
      "A value is trying to be set on a copy of a slice from a DataFrame.\n",
      "Try using .loc[row_indexer,col_indexer] = value instead\n",
      "\n",
      "See the caveats in the documentation: https://pandas.pydata.org/pandas-docs/stable/user_guide/indexing.html#returning-a-view-versus-a-copy\n",
      "  is_erc20[IS_PAUSABLE] = check_fn_names(is_erc20, PAUSABLE_MATCHES)\n",
      "/var/folders/k8/zk3t1hw970s24hcwklx_31ww0000gn/T/ipykernel_12000/3350499792.py:20: SettingWithCopyWarning: \n",
      "A value is trying to be set on a copy of a slice from a DataFrame.\n",
      "Try using .loc[row_indexer,col_indexer] = value instead\n",
      "\n",
      "See the caveats in the documentation: https://pandas.pydata.org/pandas-docs/stable/user_guide/indexing.html#returning-a-view-versus-a-copy\n",
      "  is_erc20[IS_BLACKLISTABLE] = check_fn_names(is_erc20, BLACKLISTABLE_MATCHES)\n",
      "/var/folders/k8/zk3t1hw970s24hcwklx_31ww0000gn/T/ipykernel_12000/3350499792.py:21: SettingWithCopyWarning: \n",
      "A value is trying to be set on a copy of a slice from a DataFrame.\n",
      "Try using .loc[row_indexer,col_indexer] = value instead\n",
      "\n",
      "See the caveats in the documentation: https://pandas.pydata.org/pandas-docs/stable/user_guide/indexing.html#returning-a-view-versus-a-copy\n",
      "  is_erc20[IS_UPGRADABLE] = check_fn_names(is_erc20, UPGRADABLE_MATCHES)\n"
     ]
    },
    {
     "data": {
      "text/plain": [
       "'102 ERC-20 contracts'"
      ]
     },
     "metadata": {},
     "output_type": "display_data"
    },
    {
     "data": {
      "text/plain": [
       "is_pausable         20\n",
       "is_blacklistable     2\n",
       "is_upgradable        1\n",
       "dtype: int64"
      ]
     },
     "execution_count": 19,
     "metadata": {},
     "output_type": "execute_result"
    }
   ],
   "source": [
    "def check_fn_names(df: pd.DataFrame, matches: List[str]) -> pd.Series:\n",
    "    \"\"\"Check dataframe with fn_names column for match (case-insensitive)\"\"\"\n",
    "    \n",
    "    fn_names_lower = df.fn_names.apply(lambda x: str([v.lower() for v in x if v]))\n",
    "    curr = fn_names_lower.str.contains(matches[0])\n",
    "    for match in matches[1:]:\n",
    "        curr = curr | fn_names_lower.str.contains(match)\n",
    "    return curr\n",
    "\n",
    "IS_PAUSABLE = 'is_pausable'\n",
    "IS_BLACKLISTABLE = 'is_blacklistable'\n",
    "IS_UPGRADABLE = 'is_upgradable'\n",
    "\n",
    "# PAUSABLE_MATCHES = ['pause', 'pausable', 'stop']\n",
    "PAUSABLE_MATCHES = ['paus']\n",
    "BLACKLISTABLE_MATCHES = ['blacklist']\n",
    "UPGRADABLE_MATCHES = ['deprecat']\n",
    "    \n",
    "is_erc20[IS_PAUSABLE] = check_fn_names(is_erc20, PAUSABLE_MATCHES)\n",
    "is_erc20[IS_BLACKLISTABLE] = check_fn_names(is_erc20, BLACKLISTABLE_MATCHES)\n",
    "is_erc20[IS_UPGRADABLE] = check_fn_names(is_erc20, UPGRADABLE_MATCHES)\n",
    "\n",
    "features = [IS_PAUSABLE, IS_BLACKLISTABLE, IS_UPGRADABLE]\n",
    "display(f'{len(is_erc20)} ERC-20 contracts')\n",
    "is_erc20[features].sum()"
   ]
  },
  {
   "cell_type": "code",
   "execution_count": 20,
   "id": "761b91ee-9ed6-42da-9e32-4f23c6788de9",
   "metadata": {},
   "outputs": [],
   "source": [
    "features_df = (\n",
    "    is_erc20\n",
    "    # [\n",
    "    #     is_erc20['is_pausable']\n",
    "    #     | is_erc20['is_blacklistable']\n",
    "    #     | is_erc20['is_upgradable']\n",
    "    # ]\n",
    "    [['rank', 'ContractName', 'is_pausable', 'is_blacklistable', 'is_upgradable', 'Address']]\n",
    ")\n",
    "features_df.to_csv('./data/erc20_with_features.csv')"
   ]
  },
  {
   "cell_type": "code",
   "execution_count": 21,
   "id": "54778ab5-45db-4f19-b4ce-bf18731133ce",
   "metadata": {},
   "outputs": [
    {
     "name": "stdout",
     "output_type": "stream",
     "text": [
      "tmp/erc20/001_TetherToken_0xdAC17F958D2ee523a2206206994597C13D831ec7.sol\n",
      "tmp/erc20/002_WyvernExchangeWithBulkCancellations_0x7f268357A8c2552623316e2562D90e642bB538E5.sol\n",
      "tmp/erc20/003_MetaSwap_0x881D40237659C251811CEC9c364ef91dC08D300C.sol\n",
      "tmp/erc20/004_TokenMintERC20Token_0x95aD61b0a150d79219dCF64E1E6Cc01f0B64C4cE.sol\n",
      "tmp/erc20/005_SimpleToken_0x4d224452801ACEd8B2F0aebE155379bb5D594381.sol\n",
      "tmp/erc20/006_KOKContract_0x9B9647431632AF44be02ddd22477Ed94d14AacAa.sol\n",
      "tmp/erc20/007_MaticToken_0x7D1AfA7B718fb893dB30A3aBc0Cfc608AaCfeBB0.sol\n",
      "tmp/erc20/008_WyvernProxyRegistry_0xa5409ec958C83C3f309868babACA7c86DCB077c1.sol\n",
      "tmp/erc20/009_Gala_0x15D4c048F83bd7e37d49eA4C83a07267Ec4203dA.sol\n",
      "tmp/erc20/010_LinkToken_0x514910771AF9Ca656af840dff83E8264EcF986CA.sol\n",
      "tmp/erc20/011_ZeroEx_0xDef1C0ded9bec7F1a1670819833240f027b25EfF.sol\n",
      "tmp/erc20/012_WrappedLuna_0xd2877702675e6cEb975b4A1dFf9fb7BAF4C91ea9.sol\n",
      "tmp/erc20/013_MANAToken_0x0F5D2fB29fb7d3CFeE444a200298f468908cC942.sol\n",
      "tmp/erc20/014_CroToken_0xA0b73E1Ff0B80914AB6fe0444E65848C4C34450b.sol\n",
      "tmp/erc20/015_SaitamaInu_0x8B3192f5eEBD8579568A2Ed41E6FEB402f93f73F.sol\n",
      "tmp/erc20/016_HEX_0x2b591e99afE9f32eAA6214f7B7629768c40Eeb39.sol\n",
      "tmp/erc20/017_Sand_0x3845badAde8e6dFF049820680d1F14bD3903a5d0.sol\n",
      "tmp/erc20/018_LooksRareToken_0xf4d2888d29D722226FafA5d9B24F9164c092421E.sol\n",
      "tmp/erc20/019_WrappedUST_0xa47c8bf37f92aBed4A126BDA807A7b7498661acD.sol\n",
      "tmp/erc20/020_Stronger_0xDc0327D50E6C73db2F8117760592C8BBf1CDCF38.sol\n",
      "tmp/erc20/021_AXSToken_0xBB0E17EF65F82Ab018d8EDd776e8DD940327B28b.sol\n",
      "tmp/erc20/022_WOOL_0x8355DBE8B0e275ABAd27eB843F3eaF3FC855e525.sol\n",
      "tmp/erc20/023_VraToken_0xF411903cbC70a74d22900a5DE66A2dda66507255.sol\n",
      "tmp/erc20/024_InitializableAdminUpgradeabilityProxy_0x7Fc66500c84A76Ad7e9c93437bFc5Ac33E2DDaE9.sol\n",
      "tmp/erc20/025_WBTC_0x2260FAC5E5542a773Aa44fBCfeDf7C193bc2C599.sol\n",
      "tmp/erc20/026_ENJToken_0xF629cBd94d3791C9250152BD8dfBDF380E2a3B9c.sol\n",
      "tmp/erc20/027_Hedron_0x3819f64f282bf135d62168C1e513280dAF905e06.sol\n",
      "tmp/erc20/028_StandardToken_0x4a220E6096B25EADb88358cb44068A3248254675.sol\n",
      "tmp/erc20/029_JasmyCoin_0x7420B4b9a0110cdC71fB720908340C03F9Bc03EC.sol\n",
      "tmp/erc20/030_GraphToken_0xc944E90C64B2c07662A292be6244BDf05Cda44a7.sol\n",
      "tmp/erc20/031_TornadoRouter_0xd90e2f925DA726b50C4Ed8D0Fb90Ad053324F31b.sol\n",
      "tmp/erc20/032_ProxyERC20_0xC011a73ee8576Fb46F5E1c5751cA3B9Fe0af2a6F.sol\n",
      "tmp/erc20/033_FantomToken_0x4E15361FD6b4BB609Fa63C81A2be19d873717870.sol\n",
      "tmp/erc20/034_Strong_0x990f341946A3fdB507aE7e52d17851B87168017c.sol\n",
      "tmp/erc20/035_SushiToken_0x6B3595068778DD592e39A122f4f5a5cF09C90fE2.sol\n",
      "tmp/erc20/036_chiliZ_0x3506424F91fD33084466F402d5D97f05F8e3b4AF.sol\n",
      "tmp/erc20/037_ENSToken_0xC18360217D8F7Ab5e7c516566761Ea12Ce7F9D72.sol\n",
      "tmp/erc20/038_Dogelon_0x761D38e5ddf6ccf6Cf7c55759d5210750B5D60F3.sol\n",
      "tmp/erc20/039_PulseDogecoin_0x34F0915a5f15a66Eba86F6a58bE1A471FB7836A7.sol\n",
      "tmp/erc20/040_HOPToken_0xc5102fE9359FD9a28f877a67E36B0F050d81a3CC.sol\n",
      "tmp/erc20/041_OneInch_0x111111111117dC0aa78b770fA6A738034120C302.sol\n",
      "tmp/erc20/042_IMXToken_0xF57e7e7C23978C3cAEC3C3548E3D615c346e79fF.sol\n",
      "tmp/erc20/043_CBAToken_0xc6e145421FD494B26dCF2BFeB1b02b7c5721978f.sol\n",
      "tmp/erc20/044_Minter_0x9123077AcAFb3d743C68418304b2A11566Cc1175.sol\n",
      "tmp/erc20/045_LivepeerToken_0x58b6A8A3302369DAEc383334672404Ee733aB239.sol\n",
      "tmp/erc20/046_Invoice_0x52dE8D3fEbd3a06d3c627f59D56e6892B80DCf12.sol\n",
      "tmp/erc20/047_Amp_0xfF20817765cB7f73d4bde2e66e067E58D11095C2.sol\n",
      "tmp/erc20/048_Spell_0x090185f2135308BaD17527004364eBcC2D37e5F6.sol\n",
      "tmp/erc20/049_MetroVaultDoor_0xFbF753521714c267777b981F4f18Fa46056D0F91.sol\n",
      "tmp/erc20/050_SocialGoodToken_0xdDF7Fd345D54ff4B40079579d4C4670415DbfD0A.sol\n",
      "tmp/erc20/051_BuryShib_0xB4a81261b16b92af0B9F7C4a83f1E885132D81e4.sol\n",
      "tmp/erc20/052_GAL_0x5fAa989Af96Af85384b8a938c2EdE4A7378D9875.sol\n",
      "tmp/erc20/053_AVINOCToken_0xF1cA9cb74685755965c7458528A36934Df52A3EF.sol\n",
      "tmp/erc20/054_YFI_0x0bc529c00C6401aEF6D220BE8C6Ea1667F6Ad93e.sol\n",
      "tmp/erc20/055_ArgentModule_0x9D58779365B067D5D3fCc6e92d237aCd06F1e6a1.sol\n",
      "tmp/erc20/056_ASH_0x64D91f12Ece7362F91A6f8E7940Cd55F05060b92.sol\n",
      "tmp/erc20/057_OMGToken_0xd26114cd6EE289AccF82350c8d8487fedB8A0C07.sol\n",
      "tmp/erc20/058_L1BridgeZap_0x6571d6be3d8460CF5F7d6711Cd9961860029D85F.sol\n",
      "tmp/erc20/059_StandardERC20_0xf3b9569F82B18aEf890De263B84189bd33EBe452.sol\n",
      "tmp/erc20/060_Lynkey_0xef952363C1d990A2fa58F8b379A9fa33bad1dfd1.sol\n",
      "tmp/erc20/061_FRAXShares_0x3432B6A60D23Ca0dFCa7761B7ab56459D9C964D0.sol\n",
      "tmp/erc20/062_Token_0x3Dd98C8A089dBCFF7e8FC8d4f532BD493501Ab7F.sol\n",
      "tmp/erc20/063_DSToken_0x9f8F72aA9304c8B593d555F12eF6589cC3A579A2.sol\n",
      "tmp/erc20/064_Confetti_0xCfef8857E9C80e3440A823971420F7Fa5F62f020.sol\n",
      "tmp/erc20/065_StargateToken_0xAf5191B0De278C7286d6C7CC6ab6BB8A73bA2Cd6.sol\n",
      "tmp/erc20/066_ConvexToken_0x4e3FBD56CD56c3e72c1403e103b45Db9da5B9D2B.sol\n",
      "tmp/erc20/067_SmoothLovePotion_0xCC8Fa225D80b9c7D42F96e9570156c65D6cAAa25.sol\n",
      "tmp/erc20/068_DydxToken_0x92D6C1e31e14520e676a687F0a93788B716BEff5.sol\n",
      "tmp/erc20/069_FTT_0x50D1c9771902476076eCFc8B2A83Ad6b9355a4c9.sol\n",
      "tmp/erc20/070_OriginToken_0x8207c1FfC5B6804F6024322CcF34F29c3541Ae26.sol\n",
      "tmp/erc20/071_IlluviumERC20_0x767FE9EDC9E0dF98E07454847909b5E959D7ca0E.sol\n",
      "tmp/erc20/072_MultiGiveaway_0xa21342f796996954284B8DC6AAe7ecBF8f83A9e4.sol\n",
      "tmp/erc20/073_WrappedMIR_0x09a3EcAFa817268f77BE1283176B946C4ff2E608.sol\n",
      "tmp/erc20/074_SatoshiStaking_0x374FCAF484cd0D7234152a0Ce1B3F36B0A6B375E.sol\n",
      "tmp/erc20/075_OpenDAO_0x3b484b82567a09e2588A13D54D032153f0c0aEe0.sol\n",
      "tmp/erc20/076_ShitCoin_0x4e4a47cAC6A28A62dcC20990ed2cdA9BC659469F.sol\n",
      "tmp/erc20/077_GenericToken_0x476c5E26a75bd202a9683ffD34359C0CC15be0fF.sol\n",
      "tmp/erc20/078_ANKRToken_0x8290333ceF9e6D528dD5618Fb97a76f268f3EDD4.sol\n",
      "tmp/erc20/079_CosmosERC20_0x525A8F6F3Ba4752868cde25164382BfbaE3990e1.sol\n",
      "tmp/erc20/080_Shibnobi_0xab167E816E4d76089119900e941BEfdfA37d6b32.sol\n",
      "tmp/erc20/081_SmartToken_0x1F573D6Fb3F13d689FF844B4cE37794d79a7FF1C.sol\n",
      "tmp/erc20/082_UFragments_0x27C70Cd1946795B66be9d954418546998b546634.sol\n",
      "tmp/erc20/083_RepublicToken_0x408e41876cCCDC0F92210600ef50372656052a38.sol\n",
      "tmp/erc20/084_RSR_0x320623b8E4fF03373931769A31Fc52A4E78B5d70.sol\n",
      "tmp/erc20/085_Coti_0xDDB3422497E61e13543BeA06989C0789117555c5.sol\n",
      "tmp/erc20/086_ERC20Locker_0x23Ddd3e3692d1861Ed57EDE224608875809e127f.sol\n",
      "tmp/erc20/087_KishuInu_0xA2b4C0Af19cC16a6CfAcCe81F192B024d625817D.sol\n",
      "tmp/erc20/088_VOLT_0x3F7Aff0EF20AA2E646290DfA4E67611B2220C597.sol\n",
      "tmp/erc20/089_BalancerGovernanceToken_0xba100000625a3754423978a60c9317c58a424e3D.sol\n",
      "tmp/erc20/090_CentrallyIssuedToken_0xB64ef51C888972c908CFacf59B47C1AfBC0Ab8aC.sol\n",
      "tmp/erc20/091_X2Y2Token_0x1E4EDE388cbc9F4b5c79681B7f94d36a11ABEBC9.sol\n",
      "tmp/erc20/092_EthVault_0x1Bf68A9d1EaEe7826b3593C20a0ca93293cb489a.sol\n",
      "tmp/erc20/093_DEAPCoin_0x1A3496C18d558bd9C6C8f609E1B129f67AB08163.sol\n",
      "tmp/erc20/094_Media_0xabEFBc9fD2F806065b4f3C237d4b59D9A97Bcac7.sol\n",
      "tmp/erc20/095_RSS3_0xc98D64DA73a6616c42117b582e832812e7B8D57F.sol\n",
      "tmp/erc20/096_ACH_0xEd04915c23f00A313a544955524EB7DBD823143d.sol\n",
      "tmp/erc20/097_TheOtherSideToken_0x967ea106144FF482ca13d1ab1F7e3747fF590531.sol\n",
      "tmp/erc20/098_BoneToken_0x9813037ee2218799597d83D4a5B6F3b6778218d9.sol\n",
      "tmp/erc20/099_TokenERC20_0x55296f69f40Ea6d20E478533C15A6B08B654E758.sol\n",
      "tmp/erc20/100_BancorNetwork_0x2F9EC37d6CcFFf1caB21733BdaDEdE11c823cCB0.sol\n",
      "tmp/erc20/101_ERC20Proxy_0x056Fd409E1d7A124BD7017459dFEa2F387b6d5Cd.sol\n",
      "tmp/erc20/102_GODS_0xccC8cb5229B0ac8069C51fd58367Fd1e622aFD97.sol\n"
     ]
    }
   ],
   "source": [
    "import shutil\n",
    "\n",
    "DIR = 'tmp/erc20'\n",
    "if os.path.exists(DIR):\n",
    "    shutil.rmtree(DIR)\n",
    "os.makedirs(DIR, exist_ok=True)\n",
    "\n",
    "for code in is_erc20.itertuples():\n",
    "    path = os.path.join(DIR, str(code.rank).zfill(3) + '_' + os.path.basename(code.path))\n",
    "    print(path)\n",
    "    with open(path, 'w') as f:\n",
    "        f.write(code.src)"
   ]
  },
  {
   "cell_type": "raw",
   "id": "d9a9a381-b0fb-4059-996f-0b785e126463",
   "metadata": {},
   "source": [
    "# for code in is_erc20.itertuples():\n",
    "path = os.path.join(DIR, 'autodetected-features.csv')\n",
    "(\n",
    "    is_erc20\n",
    "    [['rank', 'ContractName', 'is_pausable', 'is_blacklistable', 'is_upgradable', 'Address']]\n",
    ").to_csv(path)"
   ]
  },
  {
   "cell_type": "raw",
   "id": "f4631a26-6846-44c2-8fe5-1bbd30c3122b",
   "metadata": {},
   "source": [
    "is_erc20"
   ]
  },
  {
   "cell_type": "markdown",
   "id": "5ca08195-51d0-4959-84a0-5338cd3c09e7",
   "metadata": {},
   "source": [
    "### Check features"
   ]
  },
  {
   "cell_type": "code",
   "execution_count": 14,
   "id": "c853ff51-269a-44fc-a29b-6d644709aea5",
   "metadata": {},
   "outputs": [
    {
     "ename": "NameError",
     "evalue": "name 'checks' is not defined",
     "output_type": "error",
     "traceback": [
      "\u001b[0;31m---------------------------------------------------------------------------\u001b[0m",
      "\u001b[0;31mNameError\u001b[0m                                 Traceback (most recent call last)",
      "Cell \u001b[0;32mIn[14], line 2\u001b[0m\n\u001b[1;32m      1\u001b[0m is_erc20[features]\u001b[38;5;241m.\u001b[39msum()\u001b[38;5;241m.\u001b[39mplot\u001b[38;5;241m.\u001b[39mbar()\n\u001b[0;32m----> 2\u001b[0m is_erc20[features]\u001b[38;5;241m.\u001b[39mvalue_counts(normalize\u001b[38;5;241m=\u001b[39m\u001b[38;5;28;01mTrue\u001b[39;00m)\u001b[38;5;241m.\u001b[39mreset_index(name\u001b[38;5;241m=\u001b[39m\u001b[38;5;124m'\u001b[39m\u001b[38;5;124mfrac_contracts\u001b[39m\u001b[38;5;124m'\u001b[39m)\u001b[38;5;241m.\u001b[39msort_values(\u001b[43mchecks\u001b[49m, ascending\u001b[38;5;241m=\u001b[39m\u001b[38;5;28;01mFalse\u001b[39;00m)\n\u001b[1;32m      3\u001b[0m is_erc20[features]\u001b[38;5;241m.\u001b[39mvalue_counts(normalize\u001b[38;5;241m=\u001b[39m\u001b[38;5;28;01mFalse\u001b[39;00m)\u001b[38;5;241m.\u001b[39mreset_index(name\u001b[38;5;241m=\u001b[39m\u001b[38;5;124m'\u001b[39m\u001b[38;5;124mnum_contracts\u001b[39m\u001b[38;5;124m'\u001b[39m)\u001b[38;5;241m.\u001b[39msort_values(checks, ascending\u001b[38;5;241m=\u001b[39m\u001b[38;5;28;01mFalse\u001b[39;00m)\n",
      "\u001b[0;31mNameError\u001b[0m: name 'checks' is not defined"
     ]
    },
    {
     "data": {
      "image/png": "[encoded data removed]",
      "text/plain": [
       "<Figure size 1000x700 with 1 Axes>"
      ]
     },
     "metadata": {},
     "output_type": "display_data"
    }
   ],
   "source": [
    "is_erc20[features].sum().plot.bar()\n",
    "is_erc20[features].value_counts(normalize=True).reset_index(name='frac_contracts').sort_values(checks, ascending=False)\n",
    "is_erc20[features].value_counts(normalize=False).reset_index(name='num_contracts').sort_values(checks, ascending=False)"
   ]
  },
  {
   "cell_type": "code",
   "execution_count": null,
   "id": "3833778b-7c5b-4740-90de-43af1f2a5167",
   "metadata": {},
   "outputs": [],
   "source": [
    "df2 = is_erc20.head(5)\n",
    "df2[checks].value_counts(normalize=True).reset_index(name='frac_contracts').sort_values(checks, ascending=False)"
   ]
  },
  {
   "cell_type": "code",
   "execution_count": null,
   "id": "b1613662-2c4f-4248-97aa-536067cdb327",
   "metadata": {},
   "outputs": [],
   "source": [
    "df2 = is_erc20\n",
    "cumsum_frac = df2.num_tx.cumsum()\n",
    "cumsum_frac = cumsum_frac/cumsum_frac.max()\n",
    "cumsum_frac.name = 'Fraction of transactions'\n",
    "\n",
    "fig, _ = plt.subplots(figsize=(20, 8))\n",
    "g = sns.barplot(df2.ContractName, cumsum_frac)\n",
    "plt.xticks(rotation=90);"
   ]
  },
  {
   "cell_type": "code",
   "execution_count": null,
   "id": "491236bb-a66c-4f2d-914f-724ec56f01a1",
   "metadata": {},
   "outputs": [],
   "source": [
    "is_erc20.head(30)[['rank', 'ContractName', 'frac_tx'] + features]"
   ]
  },
  {
   "cell_type": "markdown",
   "id": "2b0bc944-9a8c-45a0-811e-a13765942bf9",
   "metadata": {
    "tags": []
   },
   "source": [
    "## ERC-721"
   ]
  },
  {
   "cell_type": "code",
   "execution_count": null,
   "id": "7168baa0-e666-4377-96e2-3a517bcb92bc",
   "metadata": {},
   "outputs": [],
   "source": [
    "df[df.is_erc721].num_tx.sum() / df.num_tx.sum()"
   ]
  },
  {
   "cell_type": "markdown",
   "id": "e4bd11be-bd9a-44b7-89fe-98aa5b71a82c",
   "metadata": {
    "tags": []
   },
   "source": [
    "## ERC-1155"
   ]
  },
  {
   "cell_type": "code",
   "execution_count": null,
   "id": "7ddbe98c-b531-4223-a60e-7bccdb6bb18d",
   "metadata": {},
   "outputs": [],
   "source": [
    "df[df.is_erc1155].num_tx.sum() / df.num_tx.sum()"
   ]
  },
  {
   "cell_type": "markdown",
   "id": "583ead6e-c735-487a-8122-79ad8280bd0f",
   "metadata": {},
   "source": [
    "## Looking through ERC-20"
   ]
  },
  {
   "cell_type": "code",
   "execution_count": null,
   "id": "52bde95c-6842-49f6-af01-5e929a2fa6a5",
   "metadata": {},
   "outputs": [],
   "source": [
    "is_erc20.reset_index()"
   ]
  },
  {
   "cell_type": "code",
   "execution_count": null,
   "id": "e5f5562c-a0b3-4ee6-ab1d-1d09eae8594d",
   "metadata": {},
   "outputs": [],
   "source": [
    "# import shutil\n",
    "\n",
    "\n",
    "# os.listdir(DATA_DIR)\n",
    "# for r in is_erc20.itertuples():\n",
    "#     fname = f'{r.ContractName}_{r.Address}.sol'\n",
    "#     shutil.copyfile(\n",
    "#         os.path.join(DATA_DIR, fname),\n",
    "#         os.path.join(DATA_DIR, 'ERC20 Tokens', fname),\n",
    "#     )\n",
    "    \n",
    "l = [\n",
    "    'CroToken_0xA0b73E1Ff0B80914AB',\n",
    "    'SmoothLovePotion_0xCC8Fa225D8',\n",
    "    'MaticToken_0x7D1AfA7B718fb893',\n",
    "    'BalancerGovernanceToken_0xba1',\n",
    "    'BalancerGovernanceToken_0xba1',\n",
    "    'IMXToken_0xF57e7e7C23978C3cAE',\n",
    "    'HEX_0x2b591e99afE9f32eAA6214f',\n",
    "    'L1BridgeZap_0x6571d6be3d8460C',\n",
    "    'JasmyCoin_0x7420B4b9a0110cdC7',\n",
    "    'OneInch_0x111111111117dC0aa78',\n",
    "    'Dogelon_0x761D38e5ddf6ccf6Cf7',\n",
    "    'SushiToken_0x6B3595068778DD59',\n",
    "    'Hedron_0x3819f64f282bf135d621',\n",
    "    'TokenMintERC20Token_0x95aD61b',\n",
    "    'chiliZ_0x3506424F91fD33084466',\n",
    "    'Coti_0xDDB3422497E61e13543BeA',\n",
    "    'DydxToken_0x92D6C1e31e14520e6',\n",
    "    'FTT_0x50D1c9771902476076eCFc8',\n",
    "    'Lynkey_0xef952363C1d990A2fa58',\n",
    "    'SatoshiStaking_0x374FCAF484cd',\n",
    "    'WBTC_0x2260FAC5E5542a773Aa44f',\n",
    "    'AXSToken_0xBB0E17EF65F82Ab018',\n",
    "    'GenericToken_0x476c5E26a75bd2',\n",
    "    'YFI_0x0bc529c00C6401aEF6D220B',\n",
    "    'SocialGoodToken_0xdDF7Fd345D5',\n",
    "    'ConvexToken_0x4e3FBD56CD56c3e',\n",
    "    'StandardERC20_0xf3b9569F82B18',\n",
    "    'ACH_0xEd04915c23f00A313a54495',\n",
    "    'OriginToken_0x8207c1FfC5B6804',\n",
    "    'GraphToken_0xc944E90C64B2c076',\n",
    "    'PulseDogecoin_0x34F0915a5f15a',\n",
    "]\n",
    "l = set([f.split('_')[0] for f in l])\n",
    "cs = is_erc20.ContractName\n",
    "cs[~cs.isin(l)]"
   ]
  },
  {
   "cell_type": "code",
   "execution_count": null,
   "id": "aaf2bed6-b2c3-4ef4-bbec-890633a98e87",
   "metadata": {},
   "outputs": [],
   "source": []
  },
  {
   "cell_type": "markdown",
   "id": "239f2938-242b-4d24-bc0e-5b9cceb646b2",
   "metadata": {},
   "source": [
    "# Most repeated libraries\n",
    "Intent: Search for common libraries"
   ]
  },
  {
   "cell_type": "code",
   "execution_count": 22,
   "id": "cd5186bf-8168-4711-9e4f-adcca63f836b",
   "metadata": {},
   "outputs": [
    {
     "data": {
      "text/plain": [
       "[('Address', 218),\n",
       " ('Strings', 134),\n",
       " ('SafeMath', 98),\n",
       " ('MerkleProof', 70),\n",
       " ('ECDSA', 46),\n",
       " ('SafeERC20', 42),\n",
       " ('StorageSlot', 25),\n",
       " ('Counters', 24),\n",
       " ('EnumerableSet', 16),\n",
       " ('TransferHelper', 12)]"
      ]
     },
     "execution_count": 22,
     "metadata": {},
     "output_type": "execute_result"
    }
   ],
   "source": [
    "counter = Counter([])\n",
    "for c in codes:\n",
    "    counter.update(c.libraries)\n",
    "counter.most_common(10)"
   ]
  },
  {
   "cell_type": "markdown",
   "id": "25b2b54b-e1af-4469-b454-14c43421b9d1",
   "metadata": {},
   "source": [
    "# Most repeated contract names"
   ]
  },
  {
   "cell_type": "code",
   "execution_count": 25,
   "id": "54ea7e44-0f08-4a2a-bc9c-ac79e7fb42a3",
   "metadata": {},
   "outputs": [
    {
     "data": {
      "text/plain": [
       "[('ERC20', 77),\n",
       " ('ERC721A', 68),\n",
       " ('ERC721', 48),\n",
       " ('Ownable', 38),\n",
       " ('TransparentUpgradeableProxy', 27),\n",
       " ('AdminUpgradeabilityProxy', 24),\n",
       " ('ERC1967Proxy', 23),\n",
       " ('StandardToken', 19),\n",
       " ('ERC20Basic', 17),\n",
       " ('ProxyAdmin', 17),\n",
       " ('ChildOfProxiable', 17),\n",
       " ('BasicToken', 15),\n",
       " ('Proxy', 14),\n",
       " ('Pausable', 14),\n",
       " ('Owned', 13),\n",
       " ('UpgradeabilityProxy', 11),\n",
       " ('UpgradeableProxy', 10),\n",
       " ('ERC1155', 10),\n",
       " ('ERC20Detailed', 10),\n",
       " ('MintableToken', 8)]"
      ]
     },
     "execution_count": 25,
     "metadata": {},
     "output_type": "execute_result"
    }
   ],
   "source": [
    "counter = Counter([])\n",
    "for c in codes:\n",
    "    counter.update(set(c.contracts))\n",
    "counter.most_common(20)"
   ]
  },
  {
   "cell_type": "markdown",
   "id": "d26dab9c-90a4-47b4-b40b-c0fc3c247058",
   "metadata": {},
   "source": [
    "# How complex is the code? Num noncomment lines\n",
    "IMPT: Haven't stripped out empty (whitespace) lines"
   ]
  },
  {
   "cell_type": "code",
   "execution_count": 26,
   "id": "49c0094b-7f64-4b75-bbe0-de0ef7afbd61",
   "metadata": {},
   "outputs": [
    {
     "data": {
      "text/plain": [
       "<Axes: xlabel='num_noncomment_lines', ylabel='Count'>"
      ]
     },
     "execution_count": 26,
     "metadata": {},
     "output_type": "execute_result"
    },
    {
     "data": {
      "image/png": "[encoded data removed]",
      "text/plain": [
       "<Figure size 1000x700 with 1 Axes>"
      ]
     },
     "metadata": {},
     "output_type": "display_data"
    }
   ],
   "source": [
    "sns.histplot(codes_df.num_noncomment_lines)"
   ]
  },
  {
   "cell_type": "markdown",
   "id": "179cf99b-c195-4c53-880e-e070839de9bb",
   "metadata": {},
   "source": [
    "# How complex is the code? Num contracts"
   ]
  },
  {
   "cell_type": "code",
   "execution_count": 27,
   "id": "aea8c08c-8004-4577-87a8-b4df8b03a96a",
   "metadata": {},
   "outputs": [
    {
     "data": {
      "text/plain": [
       "<Axes: xlabel='num_contracts', ylabel='Count'>"
      ]
     },
     "execution_count": 27,
     "metadata": {},
     "output_type": "execute_result"
    },
    {
     "data": {
      "image/png": "[encoded data removed]",
      "text/plain": [
       "<Figure size 1000x700 with 1 Axes>"
      ]
     },
     "metadata": {},
     "output_type": "display_data"
    }
   ],
   "source": [
    "sns.histplot(codes_df.num_contracts, bins=20)"
   ]
  },
  {
   "cell_type": "markdown",
   "id": "0d739ad9-206c-471a-9a29-49aa10562bf9",
   "metadata": {},
   "source": [
    "# How well commented is it?\n",
    "% of lines being comment lines"
   ]
  },
  {
   "cell_type": "code",
   "execution_count": 28,
   "id": "dcb5b903-823f-4deb-9dbf-2592edd13c1a",
   "metadata": {},
   "outputs": [
    {
     "data": {
      "text/plain": [
       "Text(0.5, 0, 'Fraction of lines are comment lines')"
      ]
     },
     "execution_count": 28,
     "metadata": {},
     "output_type": "execute_result"
    },
    {
     "data": {
      "image/png": "[encoded data removed]",
      "text/plain": [
       "<Figure size 1000x700 with 1 Axes>"
      ]
     },
     "metadata": {},
     "output_type": "display_data"
    }
   ],
   "source": [
    "sns.histplot(\n",
    "    codes_df.num_comment_lines / codes_df.num_lines,\n",
    ").set_xlabel('Fraction of lines are comment lines')"
   ]
  },
  {
   "cell_type": "code",
   "execution_count": 29,
   "id": "bcbcbc2b-f7c5-4c49-b8da-a71749f55ec2",
   "metadata": {},
   "outputs": [
    {
     "name": "stderr",
     "output_type": "stream",
     "text": [
      "/var/folders/k8/zk3t1hw970s24hcwklx_31ww0000gn/T/ipykernel_12000/1466903021.py:1: UserWarning: \n",
      "\n",
      "`distplot` is a deprecated function and will be removed in seaborn v0.14.0.\n",
      "\n",
      "Please adapt your code to use either `displot` (a figure-level function with\n",
      "similar flexibility) or `histplot` (an axes-level function for histograms).\n",
      "\n",
      "For a guide to updating your code to use the new functions, please see\n",
      "https://gist.github.com/mwaskom/de44147ed2974457ad6372750bbe5751\n",
      "\n",
      "  sns.distplot(\n"
     ]
    },
    {
     "data": {
      "text/plain": [
       "Text(0.5, 0, 'Fraction of lines are comment lines')"
      ]
     },
     "execution_count": 29,
     "metadata": {},
     "output_type": "execute_result"
    },
    {
     "data": {
      "image/png": "[encoded data removed]",
      "text/plain": [
       "<Figure size 1000x700 with 1 Axes>"
      ]
     },
     "metadata": {},
     "output_type": "display_data"
    }
   ],
   "source": [
    "sns.distplot(\n",
    "    codes_df.num_comment_lines / codes_df.num_lines,\n",
    "    kde=False,\n",
    "    hist_kws={'cumulative': True, 'density': True},\n",
    "    bins=100\n",
    ").set_xlabel('Fraction of lines are comment lines')"
   ]
  },
  {
   "cell_type": "code",
   "execution_count": 30,
   "id": "65fad7a5-3eb6-4662-9c02-73cf9941683c",
   "metadata": {},
   "outputs": [
    {
     "data": {
      "text/html": [
       "<div>\n",
       "<style scoped>\n",
       "    .dataframe tbody tr th:only-of-type {\n",
       "        vertical-align: middle;\n",
       "    }\n",
       "\n",
       "    .dataframe tbody tr th {\n",
       "        vertical-align: top;\n",
       "    }\n",
       "\n",
       "    .dataframe thead th {\n",
       "        text-align: right;\n",
       "    }\n",
       "</style>\n",
       "<table border=\"1\" class=\"dataframe\">\n",
       "  <thead>\n",
       "    <tr style=\"text-align: right;\">\n",
       "      <th></th>\n",
       "      <th>rank</th>\n",
       "      <th>ContractName</th>\n",
       "      <th>num_tx</th>\n",
       "      <th>Address</th>\n",
       "      <th>perc_tx_of_most_used</th>\n",
       "    </tr>\n",
       "  </thead>\n",
       "  <tbody>\n",
       "    <tr>\n",
       "      <th>0</th>\n",
       "      <td>1</td>\n",
       "      <td>TetherToken</td>\n",
       "      <td>6620945</td>\n",
       "      <td>0xdAC17F958D2ee523a2206206994597C13D831ec7</td>\n",
       "      <td>16.238425</td>\n",
       "    </tr>\n",
       "    <tr>\n",
       "      <th>1</th>\n",
       "      <td>2</td>\n",
       "      <td>WyvernExchangeWithBulkCancellations</td>\n",
       "      <td>6169327</td>\n",
       "      <td>0x7f268357A8c2552623316e2562D90e642bB538E5</td>\n",
       "      <td>15.130794</td>\n",
       "    </tr>\n",
       "    <tr>\n",
       "      <th>2</th>\n",
       "      <td>3</td>\n",
       "      <td>SwapRouter02</td>\n",
       "      <td>3408742</td>\n",
       "      <td>0x68b3465833fb72A70ecDF485E0e4C7bD8665Fc45</td>\n",
       "      <td>8.360227</td>\n",
       "    </tr>\n",
       "    <tr>\n",
       "      <th>3</th>\n",
       "      <td>4</td>\n",
       "      <td>FiatTokenProxy</td>\n",
       "      <td>2910886</td>\n",
       "      <td>0xA0b86991c6218b36c1d19D4a2e9Eb0cE3606eB48</td>\n",
       "      <td>7.139193</td>\n",
       "    </tr>\n",
       "    <tr>\n",
       "      <th>4</th>\n",
       "      <td>5</td>\n",
       "      <td>WETH9</td>\n",
       "      <td>1725091</td>\n",
       "      <td>0xC02aaA39b223FE8D0A0e5C4F27eAD9083C756Cc2</td>\n",
       "      <td>4.230931</td>\n",
       "    </tr>\n",
       "    <tr>\n",
       "      <th>...</th>\n",
       "      <td>...</td>\n",
       "      <td>...</td>\n",
       "      <td>...</td>\n",
       "      <td>...</td>\n",
       "      <td>...</td>\n",
       "    </tr>\n",
       "    <tr>\n",
       "      <th>363</th>\n",
       "      <td>364</td>\n",
       "      <td>EverdomeNFTClaim</td>\n",
       "      <td>12646</td>\n",
       "      <td>0xcc0A99F59e7b153bad42f54C278C16E4081Afa7C</td>\n",
       "      <td>0.031015</td>\n",
       "    </tr>\n",
       "    <tr>\n",
       "      <th>364</th>\n",
       "      <td>365</td>\n",
       "      <td>mcgoblintownwtf</td>\n",
       "      <td>12646</td>\n",
       "      <td>0xc5B52253f5225835cc81C52cdb3d6A22bc3B0c93</td>\n",
       "      <td>0.031015</td>\n",
       "    </tr>\n",
       "    <tr>\n",
       "      <th>365</th>\n",
       "      <td>366</td>\n",
       "      <td>GODS</td>\n",
       "      <td>12643</td>\n",
       "      <td>0xccC8cb5229B0ac8069C51fd58367Fd1e622aFD97</td>\n",
       "      <td>0.031008</td>\n",
       "    </tr>\n",
       "    <tr>\n",
       "      <th>366</th>\n",
       "      <td>367</td>\n",
       "      <td>Akuma</td>\n",
       "      <td>12572</td>\n",
       "      <td>0xFA7E3F898c80E31A3aedeAe8b0C713a3F9666264</td>\n",
       "      <td>0.030834</td>\n",
       "    </tr>\n",
       "    <tr>\n",
       "      <th>367</th>\n",
       "      <td>368</td>\n",
       "      <td>Ethereum_SpokePool</td>\n",
       "      <td>12538</td>\n",
       "      <td>0x4D9079Bb4165aeb4084c526a32695dCfd2F77381</td>\n",
       "      <td>0.030751</td>\n",
       "    </tr>\n",
       "  </tbody>\n",
       "</table>\n",
       "<p>368 rows × 5 columns</p>\n",
       "</div>"
      ],
      "text/plain": [
       "     rank                         ContractName   num_tx  \\\n",
       "0       1                          TetherToken  6620945   \n",
       "1       2  WyvernExchangeWithBulkCancellations  6169327   \n",
       "2       3                         SwapRouter02  3408742   \n",
       "3       4                       FiatTokenProxy  2910886   \n",
       "4       5                                WETH9  1725091   \n",
       "..    ...                                  ...      ...   \n",
       "363   364                     EverdomeNFTClaim    12646   \n",
       "364   365                      mcgoblintownwtf    12646   \n",
       "365   366                                 GODS    12643   \n",
       "366   367                                Akuma    12572   \n",
       "367   368                   Ethereum_SpokePool    12538   \n",
       "\n",
       "                                        Address  perc_tx_of_most_used  \n",
       "0    0xdAC17F958D2ee523a2206206994597C13D831ec7             16.238425  \n",
       "1    0x7f268357A8c2552623316e2562D90e642bB538E5             15.130794  \n",
       "2    0x68b3465833fb72A70ecDF485E0e4C7bD8665Fc45              8.360227  \n",
       "3    0xA0b86991c6218b36c1d19D4a2e9Eb0cE3606eB48              7.139193  \n",
       "4    0xC02aaA39b223FE8D0A0e5C4F27eAD9083C756Cc2              4.230931  \n",
       "..                                          ...                   ...  \n",
       "363  0xcc0A99F59e7b153bad42f54C278C16E4081Afa7C              0.031015  \n",
       "364  0xc5B52253f5225835cc81C52cdb3d6A22bc3B0c93              0.031015  \n",
       "365  0xccC8cb5229B0ac8069C51fd58367Fd1e622aFD97              0.031008  \n",
       "366  0xFA7E3F898c80E31A3aedeAe8b0C713a3F9666264              0.030834  \n",
       "367  0x4D9079Bb4165aeb4084c526a32695dCfd2F77381              0.030751  \n",
       "\n",
       "[368 rows x 5 columns]"
      ]
     },
     "execution_count": 30,
     "metadata": {},
     "output_type": "execute_result"
    }
   ],
   "source": [
    "pd.set_option('display.max_rows', 30)\n",
    "mf = most_freq[['ContractName', 'num_tx', 'Address']]\n",
    "mf = mf[mf.ContractName != ''].reset_index().drop(columns=['index'])\n",
    "mf = mf.reindex().reset_index().rename(columns={'index': 'rank'})\n",
    "mf['rank'] += 1\n",
    "mf['perc_tx_of_most_used'] = mf.num_tx / mf.num_tx.sum() * 100\n",
    "mf"
   ]
  },
  {
   "cell_type": "code",
   "execution_count": 31,
   "id": "a9dac533-47fa-46f1-86ae-7d8e71d7c036",
   "metadata": {},
   "outputs": [
    {
     "data": {
      "text/html": [
       "<div>\n",
       "<style scoped>\n",
       "    .dataframe tbody tr th:only-of-type {\n",
       "        vertical-align: middle;\n",
       "    }\n",
       "\n",
       "    .dataframe tbody tr th {\n",
       "        vertical-align: top;\n",
       "    }\n",
       "\n",
       "    .dataframe thead th {\n",
       "        text-align: right;\n",
       "    }\n",
       "</style>\n",
       "<table border=\"1\" class=\"dataframe\">\n",
       "  <thead>\n",
       "    <tr style=\"text-align: right;\">\n",
       "      <th></th>\n",
       "      <th>SourceCode</th>\n",
       "      <th>ABI</th>\n",
       "      <th>ContractName</th>\n",
       "      <th>CompilerVersion</th>\n",
       "      <th>OptimizationUsed</th>\n",
       "      <th>Runs</th>\n",
       "      <th>ConstructorArguments</th>\n",
       "      <th>EVMVersion</th>\n",
       "      <th>Library</th>\n",
       "      <th>LicenseType</th>\n",
       "      <th>Proxy</th>\n",
       "      <th>Implementation</th>\n",
       "      <th>SwarmSource</th>\n",
       "      <th>Address</th>\n",
       "      <th>num_tx</th>\n",
       "      <th>frac_tx</th>\n",
       "    </tr>\n",
       "  </thead>\n",
       "  <tbody>\n",
       "    <tr>\n",
       "      <th>8</th>\n",
       "      <td>{{\\r\\n  \"language\": \"Solidity\",\\r\\n  \"sources\"...</td>\n",
       "      <td>[{\"inputs\":[{\"internalType\":\"address\",\"name\":\"...</td>\n",
       "      <td>AdminUpgradeabilityProxy</td>\n",
       "      <td>v0.6.8+commit.0bbfe453</td>\n",
       "      <td>0</td>\n",
       "      <td>200</td>\n",
       "      <td>00000000000000000000000087f9ee6d45ea38ef1317d7...</td>\n",
       "      <td>Default</td>\n",
       "      <td></td>\n",
       "      <td></td>\n",
       "      <td>1</td>\n",
       "      <td>0x218365abf9d79ae2bd81faf859392a33897b4272</td>\n",
       "      <td></td>\n",
       "      <td>0xFbdDaDD80fe7bda00B901FbAf73803F2238Ae655</td>\n",
       "      <td>793711</td>\n",
       "      <td>0.015203</td>\n",
       "    </tr>\n",
       "    <tr>\n",
       "      <th>47</th>\n",
       "      <td>/*\\r\\n  ･\\r\\n   *　★\\r\\n      ･ ｡\\r\\n        　･...</td>\n",
       "      <td>[{\"inputs\":[{\"internalType\":\"address\",\"name\":\"...</td>\n",
       "      <td>AdminUpgradeabilityProxy</td>\n",
       "      <td>v0.6.8+commit.0bbfe453</td>\n",
       "      <td>0</td>\n",
       "      <td>200</td>\n",
       "      <td>00000000000000000000000001b74373e98d4b511aaaa6...</td>\n",
       "      <td>Default</td>\n",
       "      <td></td>\n",
       "      <td>MIT</td>\n",
       "      <td>1</td>\n",
       "      <td>0x7ce3e214949a8953fbfda202ee7458e0ff3ca9b8</td>\n",
       "      <td>ipfs://b0503c23d64d00872f309af6ebc439401f4a3a5...</td>\n",
       "      <td>0xcDA72070E455bb31C7690a170224Ce43623d0B6f</td>\n",
       "      <td>143819</td>\n",
       "      <td>0.002755</td>\n",
       "    </tr>\n",
       "    <tr>\n",
       "      <th>62</th>\n",
       "      <td>// File: contracts/zeppelin/Proxy.sol\\r\\n\\r\\np...</td>\n",
       "      <td>[{\"constant\":false,\"inputs\":[{\"name\":\"newImple...</td>\n",
       "      <td>AdminUpgradeabilityProxy</td>\n",
       "      <td>v0.4.24+commit.e67f0147</td>\n",
       "      <td>1</td>\n",
       "      <td>200</td>\n",
       "      <td>0000000000000000000000005864c777697Bf988122032...</td>\n",
       "      <td>Default</td>\n",
       "      <td></td>\n",
       "      <td>MIT</td>\n",
       "      <td>1</td>\n",
       "      <td>0x5864c777697bf9881220328bf2f16908c9afcd7e</td>\n",
       "      <td>bzzr://b274fe16b200679a229fcce27c65314a32b3cff...</td>\n",
       "      <td>0x4Fabb145d64652a948d72533023f6E7A623C7C53</td>\n",
       "      <td>114028</td>\n",
       "      <td>0.002184</td>\n",
       "    </tr>\n",
       "    <tr>\n",
       "      <th>83</th>\n",
       "      <td>{{\\r\\n  \"language\": \"Solidity\",\\r\\n  \"sources\"...</td>\n",
       "      <td>[{\"inputs\":[{\"internalType\":\"address\",\"name\":\"...</td>\n",
       "      <td>InitializableImmutableAdminUpgradeabilityProxy</td>\n",
       "      <td>v0.6.12+commit.27d51765</td>\n",
       "      <td>1</td>\n",
       "      <td>200</td>\n",
       "      <td>000000000000000000000000b53c1a33016b2dc2ff3653...</td>\n",
       "      <td>Default</td>\n",
       "      <td></td>\n",
       "      <td></td>\n",
       "      <td>1</td>\n",
       "      <td>0xc6845a5c768bf8d7681249f8927877efda425baf</td>\n",
       "      <td></td>\n",
       "      <td>0x7d2768dE32b0b80b7a3454c06BdAc94A69DDc7A9</td>\n",
       "      <td>77734</td>\n",
       "      <td>0.001489</td>\n",
       "    </tr>\n",
       "    <tr>\n",
       "      <th>90</th>\n",
       "      <td>{{\\r\\n  \"language\": \"Solidity\",\\r\\n  \"sources\"...</td>\n",
       "      <td>[{\"anonymous\":false,\"inputs\":[{\"indexed\":false...</td>\n",
       "      <td>InitializableAdminUpgradeabilityProxy</td>\n",
       "      <td>v0.6.10+commit.00c0fcaf</td>\n",
       "      <td>1</td>\n",
       "      <td>200</td>\n",
       "      <td></td>\n",
       "      <td>Default</td>\n",
       "      <td></td>\n",
       "      <td></td>\n",
       "      <td>1</td>\n",
       "      <td>0x96f68837877fd0414b55050c9e794aecdbcfca59</td>\n",
       "      <td></td>\n",
       "      <td>0x7Fc66500c84A76Ad7e9c93437bFc5Ac33E2DDaE9</td>\n",
       "      <td>68280</td>\n",
       "      <td>0.001308</td>\n",
       "    </tr>\n",
       "    <tr>\n",
       "      <th>178</th>\n",
       "      <td>{{\\r\\n  \"language\": \"Solidity\",\\r\\n  \"sources\"...</td>\n",
       "      <td>[{\"inputs\":[{\"internalType\":\"address\",\"name\":\"...</td>\n",
       "      <td>AdminUpgradeabilityProxy</td>\n",
       "      <td>v0.6.8+commit.0bbfe453</td>\n",
       "      <td>1</td>\n",
       "      <td>200</td>\n",
       "      <td>000000000000000000000000205615010d66198e6ef6da...</td>\n",
       "      <td>Default</td>\n",
       "      <td></td>\n",
       "      <td></td>\n",
       "      <td>1</td>\n",
       "      <td>0xe5e8e834086f1a964f9a089eb6ae11796862e4ce</td>\n",
       "      <td></td>\n",
       "      <td>0xdeFA4e8a7bcBA345F687a2f1456F5Edd9CE97202</td>\n",
       "      <td>33374</td>\n",
       "      <td>0.000639</td>\n",
       "    </tr>\n",
       "    <tr>\n",
       "      <th>220</th>\n",
       "      <td>// File: contracts/zeppelin/Proxy.sol\\r\\n\\r\\np...</td>\n",
       "      <td>[{\"constant\":false,\"inputs\":[{\"name\":\"newImple...</td>\n",
       "      <td>AdminUpgradeabilityProxy</td>\n",
       "      <td>v0.4.24+commit.e67f0147</td>\n",
       "      <td>1</td>\n",
       "      <td>200</td>\n",
       "      <td>00000000000000000000000074271f2282ed7ee35c1661...</td>\n",
       "      <td>Default</td>\n",
       "      <td></td>\n",
       "      <td>MIT</td>\n",
       "      <td>1</td>\n",
       "      <td>0x74271f2282ed7ee35c166122a60c9830354be42a</td>\n",
       "      <td>bzzr://453a6dd044ef35f7fee24140bd151a3917d2e3d...</td>\n",
       "      <td>0x45804880De22913dAFE09f4980848ECE6EcbAf78</td>\n",
       "      <td>26984</td>\n",
       "      <td>0.000517</td>\n",
       "    </tr>\n",
       "    <tr>\n",
       "      <th>372</th>\n",
       "      <td>pragma solidity ^0.4.24;\\r\\n\\r\\n// File: contr...</td>\n",
       "      <td>[{\"constant\":false,\"inputs\":[{\"name\":\"newImple...</td>\n",
       "      <td>AdminUpgradeabilityProxy</td>\n",
       "      <td>v0.4.24+commit.e67f0147</td>\n",
       "      <td>1</td>\n",
       "      <td>200</td>\n",
       "      <td>0000000000000000000000006ffcb0f00c3ad2575e4431...</td>\n",
       "      <td>Default</td>\n",
       "      <td></td>\n",
       "      <td></td>\n",
       "      <td>1</td>\n",
       "      <td>0xb54d4e8bb827f99af764b37249990fa9d6840e20</td>\n",
       "      <td>bzzr://e6a0e94ea36527366a6a00202c99a28a36e0c44...</td>\n",
       "      <td>0x8E870D67F660D95d5be530380D0eC0bd388289E1</td>\n",
       "      <td>17016</td>\n",
       "      <td>0.000326</td>\n",
       "    </tr>\n",
       "    <tr>\n",
       "      <th>493</th>\n",
       "      <td>// File: @openzeppelin/upgrades/contracts/upgr...</td>\n",
       "      <td>[{\"inputs\":[{\"internalType\":\"address\",\"name\":\"...</td>\n",
       "      <td>AudiusAdminUpgradeabilityProxy</td>\n",
       "      <td>v0.5.17+commit.d19bba13</td>\n",
       "      <td>1</td>\n",
       "      <td>200</td>\n",
       "      <td>00000000000000000000000022a9ccfdd10382d9cd18ca...</td>\n",
       "      <td>istanbul</td>\n",
       "      <td></td>\n",
       "      <td>Apache-2.0</td>\n",
       "      <td>1</td>\n",
       "      <td>0x930c746a6e92ca8122682df48cd5020bc1771b32</td>\n",
       "      <td>bzzr://a551cf727c8099373373b8689dcdfc966296cba...</td>\n",
       "      <td>0x18aAA7115705e8be94bfFEBDE57Af9BFc265B998</td>\n",
       "      <td>12690</td>\n",
       "      <td>0.000243</td>\n",
       "    </tr>\n",
       "  </tbody>\n",
       "</table>\n",
       "</div>"
      ],
      "text/plain": [
       "                                            SourceCode  \\\n",
       "8    {{\\r\\n  \"language\": \"Solidity\",\\r\\n  \"sources\"...   \n",
       "47   /*\\r\\n  ･\\r\\n   *　★\\r\\n      ･ ｡\\r\\n        　･...   \n",
       "62   // File: contracts/zeppelin/Proxy.sol\\r\\n\\r\\np...   \n",
       "83   {{\\r\\n  \"language\": \"Solidity\",\\r\\n  \"sources\"...   \n",
       "90   {{\\r\\n  \"language\": \"Solidity\",\\r\\n  \"sources\"...   \n",
       "178  {{\\r\\n  \"language\": \"Solidity\",\\r\\n  \"sources\"...   \n",
       "220  // File: contracts/zeppelin/Proxy.sol\\r\\n\\r\\np...   \n",
       "372  pragma solidity ^0.4.24;\\r\\n\\r\\n// File: contr...   \n",
       "493  // File: @openzeppelin/upgrades/contracts/upgr...   \n",
       "\n",
       "                                                   ABI  \\\n",
       "8    [{\"inputs\":[{\"internalType\":\"address\",\"name\":\"...   \n",
       "47   [{\"inputs\":[{\"internalType\":\"address\",\"name\":\"...   \n",
       "62   [{\"constant\":false,\"inputs\":[{\"name\":\"newImple...   \n",
       "83   [{\"inputs\":[{\"internalType\":\"address\",\"name\":\"...   \n",
       "90   [{\"anonymous\":false,\"inputs\":[{\"indexed\":false...   \n",
       "178  [{\"inputs\":[{\"internalType\":\"address\",\"name\":\"...   \n",
       "220  [{\"constant\":false,\"inputs\":[{\"name\":\"newImple...   \n",
       "372  [{\"constant\":false,\"inputs\":[{\"name\":\"newImple...   \n",
       "493  [{\"inputs\":[{\"internalType\":\"address\",\"name\":\"...   \n",
       "\n",
       "                                       ContractName          CompilerVersion  \\\n",
       "8                          AdminUpgradeabilityProxy   v0.6.8+commit.0bbfe453   \n",
       "47                         AdminUpgradeabilityProxy   v0.6.8+commit.0bbfe453   \n",
       "62                         AdminUpgradeabilityProxy  v0.4.24+commit.e67f0147   \n",
       "83   InitializableImmutableAdminUpgradeabilityProxy  v0.6.12+commit.27d51765   \n",
       "90            InitializableAdminUpgradeabilityProxy  v0.6.10+commit.00c0fcaf   \n",
       "178                        AdminUpgradeabilityProxy   v0.6.8+commit.0bbfe453   \n",
       "220                        AdminUpgradeabilityProxy  v0.4.24+commit.e67f0147   \n",
       "372                        AdminUpgradeabilityProxy  v0.4.24+commit.e67f0147   \n",
       "493                  AudiusAdminUpgradeabilityProxy  v0.5.17+commit.d19bba13   \n",
       "\n",
       "    OptimizationUsed Runs                               ConstructorArguments  \\\n",
       "8                  0  200  00000000000000000000000087f9ee6d45ea38ef1317d7...   \n",
       "47                 0  200  00000000000000000000000001b74373e98d4b511aaaa6...   \n",
       "62                 1  200  0000000000000000000000005864c777697Bf988122032...   \n",
       "83                 1  200  000000000000000000000000b53c1a33016b2dc2ff3653...   \n",
       "90                 1  200                                                      \n",
       "178                1  200  000000000000000000000000205615010d66198e6ef6da...   \n",
       "220                1  200  00000000000000000000000074271f2282ed7ee35c1661...   \n",
       "372                1  200  0000000000000000000000006ffcb0f00c3ad2575e4431...   \n",
       "493                1  200  00000000000000000000000022a9ccfdd10382d9cd18ca...   \n",
       "\n",
       "    EVMVersion Library LicenseType Proxy  \\\n",
       "8      Default                         1   \n",
       "47     Default                 MIT     1   \n",
       "62     Default                 MIT     1   \n",
       "83     Default                         1   \n",
       "90     Default                         1   \n",
       "178    Default                         1   \n",
       "220    Default                 MIT     1   \n",
       "372    Default                         1   \n",
       "493   istanbul          Apache-2.0     1   \n",
       "\n",
       "                                 Implementation  \\\n",
       "8    0x218365abf9d79ae2bd81faf859392a33897b4272   \n",
       "47   0x7ce3e214949a8953fbfda202ee7458e0ff3ca9b8   \n",
       "62   0x5864c777697bf9881220328bf2f16908c9afcd7e   \n",
       "83   0xc6845a5c768bf8d7681249f8927877efda425baf   \n",
       "90   0x96f68837877fd0414b55050c9e794aecdbcfca59   \n",
       "178  0xe5e8e834086f1a964f9a089eb6ae11796862e4ce   \n",
       "220  0x74271f2282ed7ee35c166122a60c9830354be42a   \n",
       "372  0xb54d4e8bb827f99af764b37249990fa9d6840e20   \n",
       "493  0x930c746a6e92ca8122682df48cd5020bc1771b32   \n",
       "\n",
       "                                           SwarmSource  \\\n",
       "8                                                        \n",
       "47   ipfs://b0503c23d64d00872f309af6ebc439401f4a3a5...   \n",
       "62   bzzr://b274fe16b200679a229fcce27c65314a32b3cff...   \n",
       "83                                                       \n",
       "90                                                       \n",
       "178                                                      \n",
       "220  bzzr://453a6dd044ef35f7fee24140bd151a3917d2e3d...   \n",
       "372  bzzr://e6a0e94ea36527366a6a00202c99a28a36e0c44...   \n",
       "493  bzzr://a551cf727c8099373373b8689dcdfc966296cba...   \n",
       "\n",
       "                                        Address  num_tx   frac_tx  \n",
       "8    0xFbdDaDD80fe7bda00B901FbAf73803F2238Ae655  793711  0.015203  \n",
       "47   0xcDA72070E455bb31C7690a170224Ce43623d0B6f  143819  0.002755  \n",
       "62   0x4Fabb145d64652a948d72533023f6E7A623C7C53  114028  0.002184  \n",
       "83   0x7d2768dE32b0b80b7a3454c06BdAc94A69DDc7A9   77734  0.001489  \n",
       "90   0x7Fc66500c84A76Ad7e9c93437bFc5Ac33E2DDaE9   68280  0.001308  \n",
       "178  0xdeFA4e8a7bcBA345F687a2f1456F5Edd9CE97202   33374  0.000639  \n",
       "220  0x45804880De22913dAFE09f4980848ECE6EcbAf78   26984  0.000517  \n",
       "372  0x8E870D67F660D95d5be530380D0eC0bd388289E1   17016  0.000326  \n",
       "493  0x18aAA7115705e8be94bfFEBDE57Af9BFc265B998   12690  0.000243  "
      ]
     },
     "execution_count": 31,
     "metadata": {},
     "output_type": "execute_result"
    }
   ],
   "source": [
    "most_freq[most_freq.ContractName.str.contains('Admin')]"
   ]
  },
  {
   "cell_type": "code",
   "execution_count": null,
   "id": "60f0672e-561d-4a3e-b3c7-0c5eaabdb9a1",
   "metadata": {},
   "outputs": [],
   "source": [
    "mf.head(30)"
   ]
  },
  {
   "cell_type": "code",
   "execution_count": null,
   "id": "e50b96ed-17ec-476a-af22-e9f870b43079",
   "metadata": {},
   "outputs": [],
   "source": [
    "most_freq"
   ]
  },
  {
   "cell_type": "markdown",
   "id": "57c4b0a3-754e-48f4-bfed-ca99fbf00e61",
   "metadata": {},
   "source": [
    "## Unfold nested contracts"
   ]
  },
  {
   "cell_type": "code",
   "execution_count": null,
   "id": "c4a341a2-e268-4ab0-9455-208b31d2ca35",
   "metadata": {},
   "outputs": [],
   "source": [
    "for r in most_freq.itertuples():\n",
    "    if not r.SourceCode.startswith('{{'):\n",
    "        continue\n",
    "    print(r.ContractName)\n",
    "    code = json.loads(r.SourceCode[1:-1])\n",
    "    for path, data in code['sources'].items():\n",
    "        if path.startswith('/'):\n",
    "            path = path[1:]\n",
    "        path = os.path.join(DATA_DIR, f'{r.ContractName}_{r.Address}', path)\n",
    "        os.makedirs(os.path.dirname(path), exist_ok=True)\n",
    "        with open(path, 'w') as f:\n",
    "            f.write(data['content'])\n",
    "        "
   ]
  },
  {
   "cell_type": "code",
   "execution_count": null,
   "id": "51d82170-f0d6-40a1-a26c-d786a717f00c",
   "metadata": {},
   "outputs": [],
   "source": [
    "os.path.dirname('abc/def/gh')"
   ]
  }
 ],
 "metadata": {
  "kernelspec": {
   "display_name": "Python 3 (ipykernel)",
   "language": "python",
   "name": "python3"
  },
  "language_info": {
   "codemirror_mode": {
    "name": "ipython",
    "version": 3
   },
   "file_extension": ".py",
   "mimetype": "text/x-python",
   "name": "python",
   "nbconvert_exporter": "python",
   "pygments_lexer": "ipython3",
   "version": "3.9.17"
  }
 },
 "nbformat": 4,
 "nbformat_minor": 5
}
