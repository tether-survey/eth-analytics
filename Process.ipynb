{
 "cells": [
  {
   "cell_type": "markdown",
   "id": "8996281a-c2df-463a-a8fe-88b977e31104",
   "metadata": {
    "tags": []
   },
   "source": [
    "# Current Analysis\n",
    "Updated: 2022-08-12 14:25\n",
    "\n",
    "| Field | Value |\n",
    "|--|--|\n",
    "| Block start date | Mar-22-2022 04:36:03 AM +UTC |\n",
    "| Block end date | Jun-23-2022 10:03:37 AM +UTC|\n",
    "| Time period | 3 mths 1 day 5h 27m |\n",
    "| Block start | 14434001 |\n",
    "| Block end | 15012398 |"
   ]
  },
  {
   "cell_type": "code",
   "execution_count": 1,
   "id": "dfefb3e7-1cd1-4d92-b55d-e817e11e9c0c",
   "metadata": {},
   "outputs": [],
   "source": [
    "from datetime import datetime\n",
    "from time import time\n",
    "from tqdm import tqdm\n",
    "import matplotlib.pyplot as plt\n",
    "\n",
    "import glob\n",
    "import ujson as json\n",
    "import matplotlib.pyplot as plt\n",
    "import os\n",
    "import pandas as pd\n",
    "import requests as r\n",
    "import seaborn as sns"
   ]
  },
  {
   "cell_type": "code",
   "execution_count": 19,
   "id": "0bbf6cb8-6918-4b51-97c5-dbec4b48093a",
   "metadata": {},
   "outputs": [],
   "source": [
    "N = 500 # top N to addresses\n",
    "API_KEY = os.environ['ETHERSCAN_API_TOKEN']\n",
    "\n",
    "MIN_BLOCK = 14434001\n",
    "MAX_BLOCK = 15012398\n",
    "\n",
    "REDUCED_DATA_PATH = 'data/blocks-reduced'\n",
    "SOURCE_CODE_SAVE_DIR = 'source-code'\n",
    "DATAFRAME_SAVE_PATH = f'data/top-{N}-minblock-{MIN_BLOCK}-maxblock-{MAX_BLOCK}.feather'\n",
    "\n",
    "# for now, min and max blocks are manually set :(\n",
    "\n",
    "CHUNK_VALUE_COUNTS_DATA_PATH = 'data/chunk-to-value-counts'\n",
    "CHUNK_SIZE = 10_000\n",
    "\n",
    "os.makedirs(SOURCE_CODE_SAVE_PATH, exist_ok=True)"
   ]
  },
  {
   "cell_type": "markdown",
   "id": "b6505f31-e131-4d14-9e13-2db3028d8d58",
   "metadata": {
    "tags": []
   },
   "source": [
    "# Make chunked value counts\n",
    "There's too much data to process efficiently in memory."
   ]
  },
  {
   "cell_type": "code",
   "execution_count": 3,
   "id": "40b44e8e-9c7e-44c9-9e6f-31608a09ccd3",
   "metadata": {},
   "outputs": [
    {
     "name": "stderr",
     "output_type": "stream",
     "text": [
      "578399it [03:32, 2718.69it/s]\n"
     ]
    }
   ],
   "source": [
    "def mk_chunked_value_counts():\n",
    "    def mk_chunk(reduced):\n",
    "        \"\"\"Save data into chunked value counts\n",
    "        \"\"\"\n",
    "        \n",
    "        df = pd.DataFrame.from_records(reduced)\n",
    "        vc = df['to'].value_counts()\n",
    "        min_block, max_block = df['block_number'].min(), df['block_number'].max()\n",
    "        \n",
    "        vc.to_json(os.path.join(CHUNK_VALUE_COUNTS_DATA_PATH, f'{min_block}-{max_block}.json'))\n",
    "        return vc\n",
    "        \n",
    "    reduced = []\n",
    "    data_paths = list(sorted(glob.glob(os.path.join(REDUCED_DATA_PATH, '*.json'))))\n",
    "        \n",
    "    for i, path in tqdm(enumerate(data_paths)):\n",
    "        if i % CHUNK_SIZE == 0 and i != 0:\n",
    "            mk_chunk(reduced)\n",
    "            reduced = []\n",
    "\n",
    "        with open(path) as f:\n",
    "            reduced_data = json.load(f)\n",
    "        reduced.extend(reduced_data)\n",
    "\n",
    "    if len(reduced) > 0:\n",
    "        mk_chunk(reduced)\n",
    "mk_chunked_value_counts()"
   ]
  },
  {
   "cell_type": "markdown",
   "id": "98e721b3-33ad-421e-a45c-8bc5e740fbb7",
   "metadata": {},
   "source": [
    "# Load Data"
   ]
  },
  {
   "cell_type": "code",
   "execution_count": 4,
   "id": "9e525d1c-9d37-43db-894e-479be3992bfb",
   "metadata": {},
   "outputs": [
    {
     "name": "stderr",
     "output_type": "stream",
     "text": [
      "100%|█████████████████████████████████████████████████████████████████████████████████████████████████████████████████████████████████████████████████████████████████████████████████| 58/58 [00:07<00:00,  7.47it/s]\n"
     ]
    }
   ],
   "source": [
    "dfs = [\n",
    "    pd.read_json(path, orient='index') for path in \n",
    "    tqdm(list(glob.glob(os.path.join(CHUNK_VALUE_COUNTS_DATA_PATH, '*.json'))))\n",
    "]\n",
    "raw = pd.concat(dfs)"
   ]
  },
  {
   "cell_type": "code",
   "execution_count": 5,
   "id": "a9cf6698-9545-4129-aedc-6ecc510d1484",
   "metadata": {},
   "outputs": [],
   "source": [
    "df = (\n",
    "    raw\n",
    "    .reset_index()\n",
    "    .rename(columns={'index': 'address', 0: 'num_tx'})\n",
    "    .groupby('address')\n",
    "    .sum()\n",
    "    .reset_index()\n",
    "    .sort_values('num_tx', ascending=False)\n",
    ")"
   ]
  },
  {
   "cell_type": "code",
   "execution_count": 6,
   "id": "faecde30-affe-4606-8043-29d6d8fa901c",
   "metadata": {
    "scrolled": true
   },
   "outputs": [
    {
     "data": {
      "text/plain": [
       "10998150"
      ]
     },
     "execution_count": 6,
     "metadata": {},
     "output_type": "execute_result"
    }
   ],
   "source": [
    "df.address.nunique()"
   ]
  },
  {
   "cell_type": "markdown",
   "id": "ffb898ee-5973-43ef-b7af-a1fd362b4608",
   "metadata": {},
   "source": [
    "## Num contracts with num transactions distribution (top 10,000, then remove top 500 from that)\n",
    "Removed top 500 as distribution is (extremely) long-tailed."
   ]
  },
  {
   "cell_type": "code",
   "execution_count": 7,
   "id": "8e82582a-d7b0-4f91-aa61-2663db4c823f",
   "metadata": {},
   "outputs": [
    {
     "name": "stderr",
     "output_type": "stream",
     "text": [
      "/var/folders/k8/zk3t1hw970s24hcwklx_31ww0000gn/T/ipykernel_3163/2407044859.py:6: UserWarning: \n",
      "\n",
      "`distplot` is a deprecated function and will be removed in seaborn v0.14.0.\n",
      "\n",
      "Please adapt your code to use either `displot` (a figure-level function with\n",
      "similar flexibility) or `histplot` (an axes-level function for histograms).\n",
      "\n",
      "For a guide to updating your code to use the new functions, please see\n",
      "https://gist.github.com/mwaskom/de44147ed2974457ad6372750bbe5751\n",
      "\n",
      "  p = sns.distplot(df.head(N2).tail(N2-N2_EXCL_TOP).num_tx, kde=False)\n"
     ]
    },
    {
     "data": {
      "text/plain": [
       "Text(0, 0.5, 'Number of contracts')"
      ]
     },
     "execution_count": 7,
     "metadata": {},
     "output_type": "execute_result"
    },
    {
     "data": {
      "image/png": "[encoded data removed]",
      "text/plain": [
       "<Figure size 1000x500 with 1 Axes>"
      ]
     },
     "metadata": {},
     "output_type": "display_data"
    }
   ],
   "source": [
    "N2 = 10_000\n",
    "N2_EXCL_TOP = 500\n",
    "\n",
    "plt.rcParams[\"figure.figsize\"] = (10,5)\n",
    "\n",
    "p = sns.distplot(df.head(N2).tail(N2-N2_EXCL_TOP).num_tx, kde=False)\n",
    "\n",
    "p.set_title('Number of contracts with given number of transactions')\n",
    "p.set_xlabel('Number of transactions')\n",
    "p.set_ylabel('Number of contracts')"
   ]
  },
  {
   "cell_type": "markdown",
   "id": "55d85fa7-df73-4c03-9b78-e99e6ae3fa11",
   "metadata": {
    "tags": []
   },
   "source": [
    "# Get Top N sent addresses"
   ]
  },
  {
   "cell_type": "code",
   "execution_count": 8,
   "id": "807d5bbf-1dcd-409f-bb43-0e5cab66d5fc",
   "metadata": {},
   "outputs": [],
   "source": [
    "top_N = df.head(N)"
   ]
  },
  {
   "cell_type": "code",
   "execution_count": 9,
   "id": "075b3f0f-6536-46e2-897c-103c2416fc11",
   "metadata": {},
   "outputs": [
    {
     "data": {
      "text/html": [
       "<div>\n",
       "<style scoped>\n",
       "    .dataframe tbody tr th:only-of-type {\n",
       "        vertical-align: middle;\n",
       "    }\n",
       "\n",
       "    .dataframe tbody tr th {\n",
       "        vertical-align: top;\n",
       "    }\n",
       "\n",
       "    .dataframe thead th {\n",
       "        text-align: right;\n",
       "    }\n",
       "</style>\n",
       "<table border=\"1\" class=\"dataframe\">\n",
       "  <thead>\n",
       "    <tr style=\"text-align: right;\">\n",
       "      <th></th>\n",
       "      <th>address</th>\n",
       "      <th>num_tx</th>\n",
       "    </tr>\n",
       "  </thead>\n",
       "  <tbody>\n",
       "    <tr>\n",
       "      <th>10193952</th>\n",
       "      <td>0xdAC17F958D2ee523a2206206994597C13D831ec7</td>\n",
       "      <td>6620945</td>\n",
       "    </tr>\n",
       "    <tr>\n",
       "      <th>5500113</th>\n",
       "      <td>0x7f268357A8c2552623316e2562D90e642bB538E5</td>\n",
       "      <td>6169327</td>\n",
       "    </tr>\n",
       "    <tr>\n",
       "      <th>4526337</th>\n",
       "      <td>0x68b3465833fb72A70ecDF485E0e4C7bD8665Fc45</td>\n",
       "      <td>3408742</td>\n",
       "    </tr>\n",
       "    <tr>\n",
       "      <th>6906042</th>\n",
       "      <td>0xA0b86991c6218b36c1d19D4a2e9Eb0cE3606eB48</td>\n",
       "      <td>2910886</td>\n",
       "    </tr>\n",
       "    <tr>\n",
       "      <th>6899686</th>\n",
       "      <td>0xA090e606E30bD747d4E6245a1517EbE430F0057e</td>\n",
       "      <td>2702806</td>\n",
       "    </tr>\n",
       "    <tr>\n",
       "      <th>...</th>\n",
       "      <td>...</td>\n",
       "      <td>...</td>\n",
       "    </tr>\n",
       "    <tr>\n",
       "      <th>9929479</th>\n",
       "      <td>0xcc0A99F59e7b153bad42f54C278C16E4081Afa7C</td>\n",
       "      <td>12646</td>\n",
       "    </tr>\n",
       "    <tr>\n",
       "      <th>9750715</th>\n",
       "      <td>0xc5B52253f5225835cc81C52cdb3d6A22bc3B0c93</td>\n",
       "      <td>12646</td>\n",
       "    </tr>\n",
       "    <tr>\n",
       "      <th>9936634</th>\n",
       "      <td>0xccC8cb5229B0ac8069C51fd58367Fd1e622aFD97</td>\n",
       "      <td>12643</td>\n",
       "    </tr>\n",
       "    <tr>\n",
       "      <th>8821284</th>\n",
       "      <td>0xFA7E3F898c80E31A3aedeAe8b0C713a3F9666264</td>\n",
       "      <td>12572</td>\n",
       "    </tr>\n",
       "    <tr>\n",
       "      <th>3277890</th>\n",
       "      <td>0x4D9079Bb4165aeb4084c526a32695dCfd2F77381</td>\n",
       "      <td>12538</td>\n",
       "    </tr>\n",
       "  </tbody>\n",
       "</table>\n",
       "<p>500 rows × 2 columns</p>\n",
       "</div>"
      ],
      "text/plain": [
       "                                             address   num_tx\n",
       "10193952  0xdAC17F958D2ee523a2206206994597C13D831ec7  6620945\n",
       "5500113   0x7f268357A8c2552623316e2562D90e642bB538E5  6169327\n",
       "4526337   0x68b3465833fb72A70ecDF485E0e4C7bD8665Fc45  3408742\n",
       "6906042   0xA0b86991c6218b36c1d19D4a2e9Eb0cE3606eB48  2910886\n",
       "6899686   0xA090e606E30bD747d4E6245a1517EbE430F0057e  2702806\n",
       "...                                              ...      ...\n",
       "9929479   0xcc0A99F59e7b153bad42f54C278C16E4081Afa7C    12646\n",
       "9750715   0xc5B52253f5225835cc81C52cdb3d6A22bc3B0c93    12646\n",
       "9936634   0xccC8cb5229B0ac8069C51fd58367Fd1e622aFD97    12643\n",
       "8821284   0xFA7E3F898c80E31A3aedeAe8b0C713a3F9666264    12572\n",
       "3277890   0x4D9079Bb4165aeb4084c526a32695dCfd2F77381    12538\n",
       "\n",
       "[500 rows x 2 columns]"
      ]
     },
     "execution_count": 9,
     "metadata": {},
     "output_type": "execute_result"
    }
   ],
   "source": [
    "top_N"
   ]
  },
  {
   "cell_type": "markdown",
   "id": "0f7b6405-9a59-434c-b295-ab25a1261237",
   "metadata": {},
   "source": [
    "## Quick plot to see distro (with top 5 removed)"
   ]
  },
  {
   "cell_type": "code",
   "execution_count": 10,
   "id": "c340096e-6676-4cc4-b495-db7cee7ab117",
   "metadata": {},
   "outputs": [
    {
     "data": {
      "text/plain": [
       "Text(0.5, 1.0, 'Plot with 5 largest outliers removed')"
      ]
     },
     "execution_count": 10,
     "metadata": {},
     "output_type": "execute_result"
    },
    {
     "data": {
      "image/png": "[encoded data removed]",
      "text/plain": [
       "<Figure size 1200x500 with 1 Axes>"
      ]
     },
     "metadata": {},
     "output_type": "display_data"
    }
   ],
   "source": [
    "N_REM = 5\n",
    "\n",
    "plt.subplots(figsize=(12,5))\n",
    "ax = sns.histplot(top_N.num_tx[N_REM:], bins=50)\n",
    "ax.set_title('Plot with 5 largest outliers removed')"
   ]
  },
  {
   "cell_type": "markdown",
   "id": "31cb21d5-1ad8-43dd-8e97-81ca4cb97891",
   "metadata": {},
   "source": [
    "# Get source code\n",
    "Takes a while, particularly due to rate limiting"
   ]
  },
  {
   "cell_type": "code",
   "execution_count": 11,
   "id": "7e5a680d-4922-4bc6-8b7a-ba7f7a1bf593",
   "metadata": {},
   "outputs": [],
   "source": [
    "def get_source(address: str) -> dict:\n",
    "    url = (\n",
    "        'https://api.etherscan.io/api'\n",
    "       '?module=contract'\n",
    "       '&action=getsourcecode'\n",
    "       f'&address={address}'\n",
    "       f'&apikey={API_KEY}'\n",
    "    )\n",
    "    try:\n",
    "        res = r.get(url).json()['result'][0]\n",
    "        res['Address'] = address\n",
    "    except:\n",
    "        print('whoops at ' + address)\n",
    "        \n",
    "    return res"
   ]
  },
  {
   "cell_type": "code",
   "execution_count": 12,
   "id": "9aa12153-6edc-4b8d-9757-48866fda62d7",
   "metadata": {},
   "outputs": [
    {
     "name": "stderr",
     "output_type": "stream",
     "text": [
      "100%|███████████████████████████████████████████████████████████████████████████████████████████████████████████████████████████████████████████████████████████████████████████████| 500/500 [09:28<00:00,  1.14s/it]\n"
     ]
    }
   ],
   "source": [
    "source_records = [get_source(addr) for addr in tqdm(list(top_N.address))]"
   ]
  },
  {
   "cell_type": "markdown",
   "id": "235917b0-ee82-4355-8d90-55690cdf2c32",
   "metadata": {},
   "source": [
    "# Final Processing"
   ]
  },
  {
   "cell_type": "code",
   "execution_count": 13,
   "id": "c5871551-b1c5-4334-b1ad-913d6ffb9895",
   "metadata": {},
   "outputs": [],
   "source": [
    "source_df = pd.DataFrame.from_records(source_records)\n",
    "final_df = source_df.merge(top_N, how='inner', left_on='Address', right_on='address').drop(columns=['address'])\n",
    "final_df['frac_tx'] = final_df['num_tx'] / final_df['num_tx'].sum()"
   ]
  },
  {
   "cell_type": "code",
   "execution_count": 14,
   "id": "d0a4ac8f-a1b8-4d52-8190-e86a2cea3c1c",
   "metadata": {},
   "outputs": [],
   "source": [
    "final_df.to_feather(DATAFRAME_SAVE_PATH)"
   ]
  },
  {
   "cell_type": "code",
   "execution_count": 15,
   "id": "7ce4dcd4-dfd1-47d1-9ec1-6beef2937bd4",
   "metadata": {},
   "outputs": [
    {
     "data": {
      "text/html": [
       "<div>\n",
       "<style scoped>\n",
       "    .dataframe tbody tr th:only-of-type {\n",
       "        vertical-align: middle;\n",
       "    }\n",
       "\n",
       "    .dataframe tbody tr th {\n",
       "        vertical-align: top;\n",
       "    }\n",
       "\n",
       "    .dataframe thead th {\n",
       "        text-align: right;\n",
       "    }\n",
       "</style>\n",
       "<table border=\"1\" class=\"dataframe\">\n",
       "  <thead>\n",
       "    <tr style=\"text-align: right;\">\n",
       "      <th></th>\n",
       "      <th>SourceCode</th>\n",
       "      <th>ABI</th>\n",
       "      <th>ContractName</th>\n",
       "      <th>CompilerVersion</th>\n",
       "      <th>OptimizationUsed</th>\n",
       "      <th>Runs</th>\n",
       "      <th>ConstructorArguments</th>\n",
       "      <th>EVMVersion</th>\n",
       "      <th>Library</th>\n",
       "      <th>LicenseType</th>\n",
       "      <th>Proxy</th>\n",
       "      <th>Implementation</th>\n",
       "      <th>SwarmSource</th>\n",
       "      <th>Address</th>\n",
       "      <th>num_tx</th>\n",
       "      <th>frac_tx</th>\n",
       "    </tr>\n",
       "  </thead>\n",
       "  <tbody>\n",
       "    <tr>\n",
       "      <th>0</th>\n",
       "      <td>pragma solidity ^0.4.17;\\r\\n\\r\\n/**\\r\\n * @tit...</td>\n",
       "      <td>[{\"constant\":true,\"inputs\":[],\"name\":\"name\",\"o...</td>\n",
       "      <td>TetherToken</td>\n",
       "      <td>v0.4.18+commit.9cf6e910</td>\n",
       "      <td>0</td>\n",
       "      <td>0</td>\n",
       "      <td>0000000000000000000000000000000000000000000000...</td>\n",
       "      <td>Default</td>\n",
       "      <td></td>\n",
       "      <td></td>\n",
       "      <td>0</td>\n",
       "      <td></td>\n",
       "      <td>bzzr://645ee12d73db47fd78ba77fa1f824c3c8f91840...</td>\n",
       "      <td>0xdAC17F958D2ee523a2206206994597C13D831ec7</td>\n",
       "      <td>6620945</td>\n",
       "      <td>0.126823</td>\n",
       "    </tr>\n",
       "    <tr>\n",
       "      <th>1</th>\n",
       "      <td>pragma solidity 0.4.26;\\r\\n\\r\\nlibrary SafeMat...</td>\n",
       "      <td>[{\"constant\":true,\"inputs\":[],\"name\":\"name\",\"o...</td>\n",
       "      <td>WyvernExchangeWithBulkCancellations</td>\n",
       "      <td>v0.4.26+commit.4563c3fc</td>\n",
       "      <td>1</td>\n",
       "      <td>200</td>\n",
       "      <td>000000000000000000000000a5409ec958c83c3f309868...</td>\n",
       "      <td>Default</td>\n",
       "      <td></td>\n",
       "      <td>MIT</td>\n",
       "      <td>0</td>\n",
       "      <td></td>\n",
       "      <td>bzzr://202020202042756c6b20536d617368212121202...</td>\n",
       "      <td>0x7f268357A8c2552623316e2562D90e642bB538E5</td>\n",
       "      <td>6169327</td>\n",
       "      <td>0.118172</td>\n",
       "    </tr>\n",
       "    <tr>\n",
       "      <th>2</th>\n",
       "      <td>{{\\r\\n  \"language\": \"Solidity\",\\r\\n  \"sources\"...</td>\n",
       "      <td>[{\"inputs\":[{\"internalType\":\"address\",\"name\":\"...</td>\n",
       "      <td>SwapRouter02</td>\n",
       "      <td>v0.7.6+commit.7338295f</td>\n",
       "      <td>1</td>\n",
       "      <td>1000000</td>\n",
       "      <td>0000000000000000000000005c69bee701ef814a2b6a3e...</td>\n",
       "      <td>Default</td>\n",
       "      <td></td>\n",
       "      <td></td>\n",
       "      <td>1</td>\n",
       "      <td>0x68b3465833fb72a70ecdf485e0e4c7bd8665fc45</td>\n",
       "      <td></td>\n",
       "      <td>0x68b3465833fb72A70ecDF485E0e4C7bD8665Fc45</td>\n",
       "      <td>3408742</td>\n",
       "      <td>0.065294</td>\n",
       "    </tr>\n",
       "    <tr>\n",
       "      <th>3</th>\n",
       "      <td>pragma solidity ^0.4.24;\\r\\n\\r\\n// File: zos-l...</td>\n",
       "      <td>[{\"constant\":false,\"inputs\":[{\"name\":\"newImple...</td>\n",
       "      <td>FiatTokenProxy</td>\n",
       "      <td>v0.4.24+commit.e67f0147</td>\n",
       "      <td>0</td>\n",
       "      <td>200</td>\n",
       "      <td>0000000000000000000000000882477e7895bdc5cea7cb...</td>\n",
       "      <td>Default</td>\n",
       "      <td></td>\n",
       "      <td></td>\n",
       "      <td>1</td>\n",
       "      <td>0xa2327a938febf5fec13bacfb16ae10ecbc4cbdcf</td>\n",
       "      <td>bzzr://a4a547cfc7202c5acaaae74d428e988bc62ad50...</td>\n",
       "      <td>0xA0b86991c6218b36c1d19D4a2e9Eb0cE3606eB48</td>\n",
       "      <td>2910886</td>\n",
       "      <td>0.055758</td>\n",
       "    </tr>\n",
       "    <tr>\n",
       "      <th>4</th>\n",
       "      <td></td>\n",
       "      <td>Contract source code not verified</td>\n",
       "      <td></td>\n",
       "      <td></td>\n",
       "      <td></td>\n",
       "      <td></td>\n",
       "      <td></td>\n",
       "      <td>Default</td>\n",
       "      <td></td>\n",
       "      <td>Unknown</td>\n",
       "      <td>0</td>\n",
       "      <td></td>\n",
       "      <td></td>\n",
       "      <td>0xA090e606E30bD747d4E6245a1517EbE430F0057e</td>\n",
       "      <td>2702806</td>\n",
       "      <td>0.051772</td>\n",
       "    </tr>\n",
       "  </tbody>\n",
       "</table>\n",
       "</div>"
      ],
      "text/plain": [
       "                                          SourceCode  \\\n",
       "0  pragma solidity ^0.4.17;\\r\\n\\r\\n/**\\r\\n * @tit...   \n",
       "1  pragma solidity 0.4.26;\\r\\n\\r\\nlibrary SafeMat...   \n",
       "2  {{\\r\\n  \"language\": \"Solidity\",\\r\\n  \"sources\"...   \n",
       "3  pragma solidity ^0.4.24;\\r\\n\\r\\n// File: zos-l...   \n",
       "4                                                      \n",
       "\n",
       "                                                 ABI  \\\n",
       "0  [{\"constant\":true,\"inputs\":[],\"name\":\"name\",\"o...   \n",
       "1  [{\"constant\":true,\"inputs\":[],\"name\":\"name\",\"o...   \n",
       "2  [{\"inputs\":[{\"internalType\":\"address\",\"name\":\"...   \n",
       "3  [{\"constant\":false,\"inputs\":[{\"name\":\"newImple...   \n",
       "4                  Contract source code not verified   \n",
       "\n",
       "                          ContractName          CompilerVersion  \\\n",
       "0                          TetherToken  v0.4.18+commit.9cf6e910   \n",
       "1  WyvernExchangeWithBulkCancellations  v0.4.26+commit.4563c3fc   \n",
       "2                         SwapRouter02   v0.7.6+commit.7338295f   \n",
       "3                       FiatTokenProxy  v0.4.24+commit.e67f0147   \n",
       "4                                                                 \n",
       "\n",
       "  OptimizationUsed     Runs  \\\n",
       "0                0        0   \n",
       "1                1      200   \n",
       "2                1  1000000   \n",
       "3                0      200   \n",
       "4                             \n",
       "\n",
       "                                ConstructorArguments EVMVersion Library  \\\n",
       "0  0000000000000000000000000000000000000000000000...    Default           \n",
       "1  000000000000000000000000a5409ec958c83c3f309868...    Default           \n",
       "2  0000000000000000000000005c69bee701ef814a2b6a3e...    Default           \n",
       "3  0000000000000000000000000882477e7895bdc5cea7cb...    Default           \n",
       "4                                                       Default           \n",
       "\n",
       "  LicenseType Proxy                              Implementation  \\\n",
       "0                 0                                               \n",
       "1         MIT     0                                               \n",
       "2                 1  0x68b3465833fb72a70ecdf485e0e4c7bd8665fc45   \n",
       "3                 1  0xa2327a938febf5fec13bacfb16ae10ecbc4cbdcf   \n",
       "4     Unknown     0                                               \n",
       "\n",
       "                                         SwarmSource  \\\n",
       "0  bzzr://645ee12d73db47fd78ba77fa1f824c3c8f91840...   \n",
       "1  bzzr://202020202042756c6b20536d617368212121202...   \n",
       "2                                                      \n",
       "3  bzzr://a4a547cfc7202c5acaaae74d428e988bc62ad50...   \n",
       "4                                                      \n",
       "\n",
       "                                      Address   num_tx   frac_tx  \n",
       "0  0xdAC17F958D2ee523a2206206994597C13D831ec7  6620945  0.126823  \n",
       "1  0x7f268357A8c2552623316e2562D90e642bB538E5  6169327  0.118172  \n",
       "2  0x68b3465833fb72A70ecDF485E0e4C7bD8665Fc45  3408742  0.065294  \n",
       "3  0xA0b86991c6218b36c1d19D4a2e9Eb0cE3606eB48  2910886  0.055758  \n",
       "4  0xA090e606E30bD747d4E6245a1517EbE430F0057e  2702806  0.051772  "
      ]
     },
     "execution_count": 15,
     "metadata": {},
     "output_type": "execute_result"
    }
   ],
   "source": [
    "final_df.head()"
   ]
  },
  {
   "cell_type": "markdown",
   "id": "d36d0ac2-bf5a-429d-89d8-f4b986f140a1",
   "metadata": {},
   "source": [
    "# Save source code"
   ]
  },
  {
   "cell_type": "code",
   "execution_count": 17,
   "id": "9f3be7cf-df9f-4a11-92da-bc594b9d3c87",
   "metadata": {},
   "outputs": [],
   "source": [
    "for row in final_df[final_df.ContractName != ''].itertuples():\n",
    "    path = os.path.join(SOURCE_CODE_SAVE_DIR, f'{row.ContractName}_{row.Address}.sol')\n",
    "    with open(path, 'w') as f:\n",
    "        f.write(row.SourceCode)"
   ]
  }
 ],
 "metadata": {
  "kernelspec": {
   "display_name": "Python 3 (ipykernel)",
   "language": "python",
   "name": "python3"
  },
  "language_info": {
   "codemirror_mode": {
    "name": "ipython",
    "version": 3
   },
   "file_extension": ".py",
   "mimetype": "text/x-python",
   "name": "python",
   "nbconvert_exporter": "python",
   "pygments_lexer": "ipython3",
   "version": "3.9.17"
  },
  "vscode": {
   "interpreter": {
    "hash": "b0fa6594d8f4cbf19f97940f81e996739fb7646882a419484c72d19e05852a7e"
   }
  }
 },
 "nbformat": 4,
 "nbformat_minor": 5
}
