{
 "cells": [
  {
   "cell_type": "code",
   "execution_count": 1,
   "id": "ad4dd5d8-4f99-4793-a6ed-8add075c394b",
   "metadata": {},
   "outputs": [],
   "source": [
    "import os\n",
    "import pandas as pd\n",
    "from web3 import Web3\n",
    "from tqdm import tqdm"
   ]
  },
  {
   "cell_type": "code",
   "execution_count": 2,
   "id": "c40a1fc3-23e7-47f3-9059-459c2b6ad248",
   "metadata": {},
   "outputs": [],
   "source": [
    "DATA_PATH = './data/top-500-minblock-14434001-maxblock-15012398.feather'"
   ]
  },
  {
   "cell_type": "markdown",
   "id": "22c63bd2-0067-425a-8eba-52cbd8c2bf42",
   "metadata": {},
   "source": [
    "# Retrieve data"
   ]
  },
  {
   "cell_type": "code",
   "execution_count": 3,
   "id": "6f54a6c4-9b5b-46e0-8d05-b1f296fea62c",
   "metadata": {},
   "outputs": [],
   "source": [
    "w3 = Web3(Web3.HTTPProvider(f'https://eth-mainnet.g.alchemy.com/v2/{os.environ[\"ALCHEMY_API_KEY\"]}'))"
   ]
  },
  {
   "cell_type": "code",
   "execution_count": 4,
   "id": "a6a6265c-ddc9-4c0b-aee2-19be9984166f",
   "metadata": {},
   "outputs": [],
   "source": [
    "df = pd.read_feather(DATA_PATH)"
   ]
  },
  {
   "cell_type": "code",
   "execution_count": 5,
   "id": "a98840a7-e143-4fe6-8ca8-e7a734180a13",
   "metadata": {},
   "outputs": [
    {
     "name": "stderr",
     "output_type": "stream",
     "text": [
      "100%|███████████████████████████████████████████████████████████████████████████████████████████████████████████████████████████████████████████████████████████████████████████████| 500/500 [03:11<00:00,  2.61it/s]\n"
     ]
    }
   ],
   "source": [
    "addresses = df.Address.tolist()\n",
    "bytecodes = []\n",
    "for address in tqdm(addresses):\n",
    "    bytecodes.append(w3.eth.get_code(address))"
   ]
  },
  {
   "cell_type": "markdown",
   "id": "8b3d0910-5f53-4677-a161-e4e0cfe1f83c",
   "metadata": {},
   "source": [
    "# Check num addresses of Top 500 with bytecode"
   ]
  },
  {
   "cell_type": "code",
   "execution_count": 6,
   "id": "5b57f2eb-d9d1-494d-a899-fecf2c70828f",
   "metadata": {},
   "outputs": [
    {
     "data": {
      "text/plain": [
       "430"
      ]
     },
     "execution_count": 6,
     "metadata": {},
     "output_type": "execute_result"
    }
   ],
   "source": [
    "pd.Series([not str(b) == \"b''\" for b in bytecodes]).sum()"
   ]
  }
 ],
 "metadata": {
  "kernelspec": {
   "display_name": "Python 3 (ipykernel)",
   "language": "python",
   "name": "python3"
  },
  "language_info": {
   "codemirror_mode": {
    "name": "ipython",
    "version": 3
   },
   "file_extension": ".py",
   "mimetype": "text/x-python",
   "name": "python",
   "nbconvert_exporter": "python",
   "pygments_lexer": "ipython3",
   "version": "3.9.17"
  }
 },
 "nbformat": 4,
 "nbformat_minor": 5
}
